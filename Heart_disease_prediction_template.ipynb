{
  "nbformat": 4,
  "nbformat_minor": 0,
  "metadata": {
    "colab": {
      "name": "Heart-disease-prediction-template.ipynb",
      "provenance": [],
      "collapsed_sections": []
    },
    "kernelspec": {
      "name": "python3",
      "display_name": "Python 3"
    }
  },
  "cells": [
    {
      "cell_type": "markdown",
      "metadata": {
        "id": "7OcLi7FAsgIL",
        "colab_type": "text"
      },
      "source": [
        "## **Heart-disease-prediction**\n",
        "\n",
        "\n",
        "\n",
        "Heart disease is a debilitating disease that affect many people around the world. Heart disease is an umbrella term that consists of other conditions that produce diseased vessels, structural problems and blood clots within heart structure. The symptoms of heart disease vary depending on the type of condition afflicting the patient. Each year heart disease is the leading cause of death in both men and women, affecting about 370,000 people.\n",
        "\n",
        "\n",
        "\n",
        "**This project is to just show some of the steps that could be taken analyzing a dataset using the heart disease dataset.**"
      ]
    },
    {
      "cell_type": "markdown",
      "metadata": {
        "id": "nz_rFGwxsjuz",
        "colab_type": "text"
      },
      "source": [
        "## **Steps:**\n",
        "- Importing Libraries\n",
        "- Uploading  dataset\n",
        "- Analyze dataset \n",
        "- Building model\n",
        "- Training model and validating model\n",
        "\n",
        "- Conclusion"
      ]
    },
    {
      "cell_type": "code",
      "metadata": {
        "id": "OZ6HPBG6sZHH",
        "colab_type": "code",
        "colab": {}
      },
      "source": [
        "# These are the libraray which will be used in solution you can use any other libraries \n",
        "import numpy as np\n",
        "import pandas as pd\n",
        "import matplotlib.pyplot as plt\n",
        "import seaborn as sns\n",
        "from sklearn.model_selection import train_test_split\n",
        "from sklearn.neighbors import KNeighborsClassifier\n",
        "from sklearn.metrics import accuracy_score\n",
        "from sklearn.metrics import classification_report\n",
        "from keras.models import Sequential\n",
        "from keras.layers import Dense\n",
        "from pandas import set_option"
      ],
      "execution_count": 0,
      "outputs": []
    },
    {
      "cell_type": "markdown",
      "metadata": {
        "id": "l6iwyiQbs4kh",
        "colab_type": "text"
      },
      "source": [
        "## **Uploading dataset**\n",
        "\n",
        "The dataset that we will be using is a dataset from the UCI Machine Learning repository via a Kaggle competition. The data has been provided by the Cleveland Clinic Foundation. The dataset consists of patients ranging in age from 29 - 77 years old. There are a total of 303 instances and 14 attributes including our target variable of “presence” of heart disease. \n",
        "\n",
        "**Attributes**\n",
        "\n",
        "\n",
        "1.   sex:     sex (1 = male; 0 = female)\n",
        "2.   age:     age in years\n",
        "3.   cp :     chest pain type\n",
        "4.   trestb:  psresting blood pressure (in mm Hg on admission to the hospital)\n",
        "5.   chol:    serum cholestoral in mg/dl\n",
        "6.   fbs:     (fasting blood sugar > 120 mg/dl) (1 = true; 0 = false)\n",
        "7.   restecg: resting electrocardiographic results\n",
        "8.   thalach: maximum heart rate achieved\n",
        "9.   exang:   exercise induced angina (1 = yes; 0 = no)\n",
        "10.  oldpeak: ST depression induced by exercise relative to rest\n",
        "11.  slope:   The slope of the peak exercise ST segment\n",
        "12.  ca:      Number of major vessels (0-3) colored by flourosopy\n",
        "13.  thal:    3 = normal; 6 = fixed defect; 7 = reversable defect\n",
        "14.  target:  1 or 0 (0: No Disease, 1: Disease)\n",
        "\n",
        "\n",
        "\n",
        "\n"
      ]
    },
    {
      "cell_type": "code",
      "metadata": {
        "id": "RXjNAXp0s05i",
        "colab_type": "code",
        "colab": {}
      },
      "source": [
        "data = #Upload data using pandas method"
      ],
      "execution_count": 0,
      "outputs": []
    },
    {
      "cell_type": "code",
      "metadata": {
        "id": "WFFEBJ0rs-DJ",
        "colab_type": "code",
        "colab": {}
      },
      "source": [
        "# Display the top 5 rows and column\n",
        "# Write your one line code here"
      ],
      "execution_count": 0,
      "outputs": []
    },
    {
      "cell_type": "code",
      "metadata": {
        "id": "eV8F4thRtCki",
        "colab_type": "code",
        "colab": {}
      },
      "source": [
        "# Describe the data using describe method \n",
        "# Write your one line code here      "
      ],
      "execution_count": 0,
      "outputs": []
    },
    {
      "cell_type": "code",
      "metadata": {
        "id": "9677II6EtGKx",
        "colab_type": "code",
        "colab": {}
      },
      "source": [
        "# Find if dataset has any missing value\n",
        "# Write your code here"
      ],
      "execution_count": 0,
      "outputs": []
    },
    {
      "cell_type": "markdown",
      "metadata": {
        "id": "T5Rfuz_1tQma",
        "colab_type": "text"
      },
      "source": [
        "Write wheather dataset has any missing values or not"
      ]
    },
    {
      "cell_type": "markdown",
      "metadata": {
        "id": "dCHZDGL1tb8a",
        "colab_type": "text"
      },
      "source": [
        "## **Analyze data**\n",
        "\n",
        "The dataset consists of patients ranging in age from 29 - 77 years old. There are a total of 303 instances and 14 attributes including our target variable. \n",
        "\n",
        "\n"
      ]
    },
    {
      "cell_type": "code",
      "metadata": {
        "id": "dJ7o-gABta4Q",
        "colab_type": "code",
        "colab": {}
      },
      "source": [
        "#Draw Bar graph of number of positive heart disease and negative in  target variable\n",
        "#You can use seaborn\n",
        "#Write your code here"
      ],
      "execution_count": 0,
      "outputs": []
    },
    {
      "cell_type": "markdown",
      "metadata": {
        "id": "VT69FIPgt9vI",
        "colab_type": "text"
      },
      "source": [
        "**Analyze dataset using histogram**"
      ]
    },
    {
      "cell_type": "code",
      "metadata": {
        "id": "c6kS4NHYtPrR",
        "colab_type": "code",
        "colab": {}
      },
      "source": [
        "#Analyze whole dataset using Histogram\n",
        "#Write your code here"
      ],
      "execution_count": 0,
      "outputs": []
    },
    {
      "cell_type": "markdown",
      "metadata": {
        "id": "IM7h-WK6uKIe",
        "colab_type": "text"
      },
      "source": [
        "**Analyze data using box plot**"
      ]
    },
    {
      "cell_type": "code",
      "metadata": {
        "id": "gAKaqqbSuMYA",
        "colab_type": "code",
        "colab": {}
      },
      "source": [
        "#Analyze whole dataset using box plot\n",
        "#Write your code here"
      ],
      "execution_count": 0,
      "outputs": []
    },
    {
      "cell_type": "markdown",
      "metadata": {
        "id": "bPTVdauUuRI_",
        "colab_type": "text"
      },
      "source": [
        "**Analyze the Sex variable wrt target variable**"
      ]
    },
    {
      "cell_type": "code",
      "metadata": {
        "id": "p0d7wb2-uSRP",
        "colab_type": "code",
        "colab": {}
      },
      "source": [
        "# Plot Bar graph with x axis represnting sex and y axis representing target\n",
        "# Write your code here"
      ],
      "execution_count": 0,
      "outputs": []
    },
    {
      "cell_type": "markdown",
      "metadata": {
        "id": "CDHE7pyLuYyG",
        "colab_type": "text"
      },
      "source": [
        "Write what you have concluded from above analysis"
      ]
    },
    {
      "cell_type": "markdown",
      "metadata": {
        "id": "tCUckADNufdO",
        "colab_type": "text"
      },
      "source": [
        "**Analyze slope feature  wrt target**"
      ]
    },
    {
      "cell_type": "code",
      "metadata": {
        "id": "lq7olDfMuiYn",
        "colab_type": "code",
        "colab": {}
      },
      "source": [
        "# Describe unique values of slope variable\n",
        "# Write your code here"
      ],
      "execution_count": 0,
      "outputs": []
    },
    {
      "cell_type": "code",
      "metadata": {
        "id": "nxc3Ydm8urE3",
        "colab_type": "code",
        "colab": {}
      },
      "source": [
        "# Plot Bar graph with x axis represnting slope and y axis representing target\n",
        "# Write your code here"
      ],
      "execution_count": 0,
      "outputs": []
    },
    {
      "cell_type": "markdown",
      "metadata": {
        "id": "gMn9gv5quxB4",
        "colab_type": "text"
      },
      "source": [
        "Write what you have concluded from above analysis"
      ]
    },
    {
      "cell_type": "markdown",
      "metadata": {
        "id": "I6W4ZY__uyP1",
        "colab_type": "text"
      },
      "source": [
        "**Analysing the 'ca' feature wrt target**"
      ]
    },
    {
      "cell_type": "code",
      "metadata": {
        "id": "wrtHUNuFu3Sd",
        "colab_type": "code",
        "colab": {}
      },
      "source": [
        "# Describe unique values of ca variable\n",
        "# Write your code here"
      ],
      "execution_count": 0,
      "outputs": []
    },
    {
      "cell_type": "code",
      "metadata": {
        "id": "aPoz5xtUu6Vt",
        "colab_type": "code",
        "colab": {}
      },
      "source": [
        "# Plot Bar graph with x axis represnting ca and y axis representing target\n",
        "# Write your code here"
      ],
      "execution_count": 0,
      "outputs": []
    },
    {
      "cell_type": "markdown",
      "metadata": {
        "id": "LOXqTvr9u9ql",
        "colab_type": "text"
      },
      "source": [
        "Write what you have concluded from above analysis"
      ]
    },
    {
      "cell_type": "markdown",
      "metadata": {
        "id": "V6nDyIlqvELk",
        "colab_type": "text"
      },
      "source": [
        "**Corelation Matrices**\n",
        "\n",
        "A much more common metric, and one directly calculable from the covariance, is the correlation."
      ]
    },
    {
      "cell_type": "code",
      "metadata": {
        "id": "BFkzRkdIvDBM",
        "colab_type": "code",
        "colab": {}
      },
      "source": [
        "#Print correlation matrice using pandas or you can use any other library\n",
        "# Write your code here"
      ],
      "execution_count": 0,
      "outputs": []
    },
    {
      "cell_type": "markdown",
      "metadata": {
        "id": "IDvjZ0E-vT8E",
        "colab_type": "text"
      },
      "source": [
        "##**Building Model**"
      ]
    },
    {
      "cell_type": "markdown",
      "metadata": {
        "id": "wB05vwYYvW1d",
        "colab_type": "text"
      },
      "source": [
        "**Train-test split**"
      ]
    },
    {
      "cell_type": "code",
      "metadata": {
        "id": "oYjhIWObvfVE",
        "colab_type": "code",
        "colab": {}
      },
      "source": [
        "# Split data in train and test with test size equal to 20 percent of total\n",
        "# Write your code here using train_test_split method with test size equal to 20 percent of total"
      ],
      "execution_count": 0,
      "outputs": []
    },
    {
      "cell_type": "code",
      "metadata": {
        "id": "EEPZZhS0vyIE",
        "colab_type": "code",
        "colab": {}
      },
      "source": [
        "#Shape of train dataset\n",
        "#Write your code here"
      ],
      "execution_count": 0,
      "outputs": []
    },
    {
      "cell_type": "code",
      "metadata": {
        "id": "S1pvoguRv0rV",
        "colab_type": "code",
        "colab": {}
      },
      "source": [
        "#Shape of target train dataset\n",
        "#Write your code here"
      ],
      "execution_count": 0,
      "outputs": []
    },
    {
      "cell_type": "code",
      "metadata": {
        "id": "nLDYt_58v4rs",
        "colab_type": "code",
        "colab": {}
      },
      "source": [
        "#Shape of test dataset\n",
        "#Wrie your code here"
      ],
      "execution_count": 0,
      "outputs": []
    },
    {
      "cell_type": "code",
      "metadata": {
        "id": "mSk6n-TUv88k",
        "colab_type": "code",
        "colab": {}
      },
      "source": [
        "#Shape of test dataset\n",
        "#Write your code here"
      ],
      "execution_count": 0,
      "outputs": []
    },
    {
      "cell_type": "markdown",
      "metadata": {
        "id": "3Xa1tj4pwEtL",
        "colab_type": "text"
      },
      "source": [
        "**K Nearest Neighbors**\n"
      ]
    },
    {
      "cell_type": "code",
      "metadata": {
        "id": "9PjfL6wFwHex",
        "colab_type": "code",
        "colab": {}
      },
      "source": [
        "#Build KNN model using Inbuilt classifier scikit learn\n",
        "\n",
        "#Write your code here"
      ],
      "execution_count": 0,
      "outputs": []
    },
    {
      "cell_type": "markdown",
      "metadata": {
        "id": "6WfXni3lwO8U",
        "colab_type": "text"
      },
      "source": [
        "**Neural Network**"
      ]
    },
    {
      "cell_type": "code",
      "metadata": {
        "id": "oC0olZVNwP4U",
        "colab_type": "code",
        "colab": {}
      },
      "source": [
        "# Build Neural network using keras with no of hidden layer equal to 7 and activation function as 'relu' and outer layer activation function as 'sigmoid'.\n",
        "\n",
        "#Write your code here\n",
        "\n",
        "# Write your code here to compile model with 'adam' optimizer"
      ],
      "execution_count": 0,
      "outputs": []
    },
    {
      "cell_type": "code",
      "metadata": {
        "id": "guuvJz7MwwBq",
        "colab_type": "code",
        "colab": {}
      },
      "source": [
        "#Show the summary of the  Neural network  model\n",
        "# Write your code here"
      ],
      "execution_count": 0,
      "outputs": []
    },
    {
      "cell_type": "markdown",
      "metadata": {
        "id": "7pHh6YTFw036",
        "colab_type": "text"
      },
      "source": [
        "##**Training and Validating Model**"
      ]
    },
    {
      "cell_type": "markdown",
      "metadata": {
        "id": "ygKwyrV0w4X5",
        "colab_type": "text"
      },
      "source": [
        "**K Nearest Neighbours**"
      ]
    },
    {
      "cell_type": "code",
      "metadata": {
        "id": "_xaaO_gJw5nU",
        "colab_type": "code",
        "colab": {}
      },
      "source": [
        "# Print Accuracy Score\n",
        "# Write your score here\n"
      ],
      "execution_count": 0,
      "outputs": []
    },
    {
      "cell_type": "markdown",
      "metadata": {
        "id": "y8WaXyvAxCLq",
        "colab_type": "text"
      },
      "source": [
        "**Neural Network**\n",
        "\n",
        "1.   We have used 250 epochs to train\n",
        "2.   No of validating data = 20 percent of total\n",
        "\n",
        " *Note - You can change the value of epoch*"
      ]
    },
    {
      "cell_type": "code",
      "metadata": {
        "id": "i-C0exUxw_5a",
        "colab_type": "code",
        "colab": {}
      },
      "source": [
        "# Train your neural network with 250 epochs\n",
        "# Write your code here"
      ],
      "execution_count": 0,
      "outputs": []
    },
    {
      "cell_type": "code",
      "metadata": {
        "id": "0Z6Y7wfSxJtq",
        "colab_type": "code",
        "colab": {}
      },
      "source": [
        "# Calculate the achieved accuracy \n",
        "# Write your code here"
      ],
      "execution_count": 0,
      "outputs": []
    },
    {
      "cell_type": "code",
      "metadata": {
        "id": "OT0hsqf1xQwh",
        "colab_type": "code",
        "colab": {}
      },
      "source": [
        "# Print the Accuracy achieved using Neural Network\n",
        "#Write your code here"
      ],
      "execution_count": 0,
      "outputs": []
    },
    {
      "cell_type": "markdown",
      "metadata": {
        "id": "PwKV6RpIxYD4",
        "colab_type": "text"
      },
      "source": [
        "##**Conclusion**"
      ]
    }
  ]
}