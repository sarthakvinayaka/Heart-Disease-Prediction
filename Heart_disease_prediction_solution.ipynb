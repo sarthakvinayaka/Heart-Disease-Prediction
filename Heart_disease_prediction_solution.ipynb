{
  "nbformat": 4,
  "nbformat_minor": 0,
  "metadata": {
    "colab": {
      "name": "Heart-disease-prediction-solution.ipynb",
      "provenance": [],
      "collapsed_sections": []
    },
    "kernelspec": {
      "name": "python3",
      "display_name": "Python 3"
    }
  },
  "cells": [
    {
      "cell_type": "markdown",
      "metadata": {
        "id": "WdoXwGgatZnd",
        "colab_type": "text"
      },
      "source": [
        "## **Heart-disease-prediction**\n",
        "\n",
        "\n",
        "\n",
        "Heart disease is a debilitating disease that affect many people around the world. Heart disease is an umbrella term that consists of other conditions that produce diseased vessels, structural problems and blood clots within heart structure. The symptoms of heart disease vary depending on the type of condition afflicting the patient. Each year heart disease is the leading cause of death in both men and women, affecting about 370,000 people.\n",
        "\n",
        "\n",
        "\n",
        "**This project is to just show some of the steps that could be taken analyzing a dataset using the heart disease dataset.**"
      ]
    },
    {
      "cell_type": "markdown",
      "metadata": {
        "id": "rI-t2IrRtsID",
        "colab_type": "text"
      },
      "source": [
        "## **Steps:**\n",
        "- Importing Libraries\n",
        "- Uploading  dataset\n",
        "- Analyze dataset \n",
        "- Building model\n",
        "- Training model and validating model\n",
        "\n",
        "- Conclusion"
      ]
    },
    {
      "cell_type": "markdown",
      "metadata": {
        "id": "VjSjX7LCuR0T",
        "colab_type": "text"
      },
      "source": [
        "## **Importing required Libraries**"
      ]
    },
    {
      "cell_type": "code",
      "metadata": {
        "id": "Y39dpctwsY_X",
        "colab_type": "code",
        "colab": {}
      },
      "source": [
        "\n",
        "import numpy as np\n",
        "import pandas as pd\n",
        "import matplotlib.pyplot as plt\n",
        "import seaborn as sns\n",
        "from sklearn.model_selection import train_test_split\n",
        "from sklearn.neighbors import KNeighborsClassifier\n",
        "from sklearn.metrics import accuracy_score\n",
        "from sklearn.metrics import classification_report\n",
        "from keras.models import Sequential\n",
        "from keras.layers import Dense\n",
        "from pandas import set_option"
      ],
      "execution_count": 0,
      "outputs": []
    },
    {
      "cell_type": "markdown",
      "metadata": {
        "id": "3xl0tRW9vvCd",
        "colab_type": "text"
      },
      "source": [
        "## **Uploading dataset**\n",
        "\n",
        "The dataset that we will be using is a dataset from the UCI Machine Learning repository via a Kaggle competition. The data has been provided by the Cleveland Clinic Foundation. The dataset consists of patients ranging in age from 29 - 77 years old. There are a total of 303 instances and 14 attributes including our target variable of “presence” of heart disease. \n",
        "\n",
        "**Attributes**\n",
        "\n",
        "\n",
        "1.   sex:     sex (1 = male; 0 = female)\n",
        "2.   age:     age in years\n",
        "3.   cp :     chest pain type\n",
        "4.   trestb:  psresting blood pressure (in mm Hg on admission to the hospital)\n",
        "5.   chol:    serum cholestoral in mg/dl\n",
        "6.   fbs:     (fasting blood sugar > 120 mg/dl) (1 = true; 0 = false)\n",
        "7.   restecg: resting electrocardiographic results\n",
        "8.   thalach: maximum heart rate achieved\n",
        "9.   exang:   exercise induced angina (1 = yes; 0 = no)\n",
        "10.  oldpeak: ST depression induced by exercise relative to rest\n",
        "11.  slope:   The slope of the peak exercise ST segment\n",
        "12.  ca:      Number of major vessels (0-3) colored by flourosopy\n",
        "13.  thal:    3 = normal; 6 = fixed defect; 7 = reversable defect\n",
        "14.  target:  1 or 0 (0: No Disease, 1: Disease)\n",
        "\n",
        "\n",
        "\n",
        "\n"
      ]
    },
    {
      "cell_type": "code",
      "metadata": {
        "id": "J7VoUB0fu-4P",
        "colab_type": "code",
        "colab": {}
      },
      "source": [
        "#Reading dataset using pandas dat frame\n",
        "data = pd.read_csv('/content/heart.csv')\n"
      ],
      "execution_count": 0,
      "outputs": []
    },
    {
      "cell_type": "code",
      "metadata": {
        "id": "Y7uOBhIUxpap",
        "colab_type": "code",
        "outputId": "e1d554da-debd-4173-ce5f-382988a92636",
        "colab": {
          "base_uri": "https://localhost:8080/",
          "height": 198
        }
      },
      "source": [
        "#Display the top 5 rows and column\n",
        "data.head()"
      ],
      "execution_count": 4,
      "outputs": [
        {
          "output_type": "execute_result",
          "data": {
            "text/html": [
              "<div>\n",
              "<style scoped>\n",
              "    .dataframe tbody tr th:only-of-type {\n",
              "        vertical-align: middle;\n",
              "    }\n",
              "\n",
              "    .dataframe tbody tr th {\n",
              "        vertical-align: top;\n",
              "    }\n",
              "\n",
              "    .dataframe thead th {\n",
              "        text-align: right;\n",
              "    }\n",
              "</style>\n",
              "<table border=\"1\" class=\"dataframe\">\n",
              "  <thead>\n",
              "    <tr style=\"text-align: right;\">\n",
              "      <th></th>\n",
              "      <th>age</th>\n",
              "      <th>sex</th>\n",
              "      <th>cp</th>\n",
              "      <th>trestbps</th>\n",
              "      <th>chol</th>\n",
              "      <th>fbs</th>\n",
              "      <th>restecg</th>\n",
              "      <th>thalach</th>\n",
              "      <th>exang</th>\n",
              "      <th>oldpeak</th>\n",
              "      <th>slope</th>\n",
              "      <th>ca</th>\n",
              "      <th>thal</th>\n",
              "      <th>target</th>\n",
              "    </tr>\n",
              "  </thead>\n",
              "  <tbody>\n",
              "    <tr>\n",
              "      <th>0</th>\n",
              "      <td>63</td>\n",
              "      <td>1</td>\n",
              "      <td>3</td>\n",
              "      <td>145</td>\n",
              "      <td>233</td>\n",
              "      <td>1</td>\n",
              "      <td>0</td>\n",
              "      <td>150</td>\n",
              "      <td>0</td>\n",
              "      <td>2.3</td>\n",
              "      <td>0</td>\n",
              "      <td>0</td>\n",
              "      <td>1</td>\n",
              "      <td>1</td>\n",
              "    </tr>\n",
              "    <tr>\n",
              "      <th>1</th>\n",
              "      <td>37</td>\n",
              "      <td>1</td>\n",
              "      <td>2</td>\n",
              "      <td>130</td>\n",
              "      <td>250</td>\n",
              "      <td>0</td>\n",
              "      <td>1</td>\n",
              "      <td>187</td>\n",
              "      <td>0</td>\n",
              "      <td>3.5</td>\n",
              "      <td>0</td>\n",
              "      <td>0</td>\n",
              "      <td>2</td>\n",
              "      <td>1</td>\n",
              "    </tr>\n",
              "    <tr>\n",
              "      <th>2</th>\n",
              "      <td>41</td>\n",
              "      <td>0</td>\n",
              "      <td>1</td>\n",
              "      <td>130</td>\n",
              "      <td>204</td>\n",
              "      <td>0</td>\n",
              "      <td>0</td>\n",
              "      <td>172</td>\n",
              "      <td>0</td>\n",
              "      <td>1.4</td>\n",
              "      <td>2</td>\n",
              "      <td>0</td>\n",
              "      <td>2</td>\n",
              "      <td>1</td>\n",
              "    </tr>\n",
              "    <tr>\n",
              "      <th>3</th>\n",
              "      <td>56</td>\n",
              "      <td>1</td>\n",
              "      <td>1</td>\n",
              "      <td>120</td>\n",
              "      <td>236</td>\n",
              "      <td>0</td>\n",
              "      <td>1</td>\n",
              "      <td>178</td>\n",
              "      <td>0</td>\n",
              "      <td>0.8</td>\n",
              "      <td>2</td>\n",
              "      <td>0</td>\n",
              "      <td>2</td>\n",
              "      <td>1</td>\n",
              "    </tr>\n",
              "    <tr>\n",
              "      <th>4</th>\n",
              "      <td>57</td>\n",
              "      <td>0</td>\n",
              "      <td>0</td>\n",
              "      <td>120</td>\n",
              "      <td>354</td>\n",
              "      <td>0</td>\n",
              "      <td>1</td>\n",
              "      <td>163</td>\n",
              "      <td>1</td>\n",
              "      <td>0.6</td>\n",
              "      <td>2</td>\n",
              "      <td>0</td>\n",
              "      <td>2</td>\n",
              "      <td>1</td>\n",
              "    </tr>\n",
              "  </tbody>\n",
              "</table>\n",
              "</div>"
            ],
            "text/plain": [
              "   age  sex  cp  trestbps  chol  fbs  ...  exang  oldpeak  slope  ca  thal  target\n",
              "0   63    1   3       145   233    1  ...      0      2.3      0   0     1       1\n",
              "1   37    1   2       130   250    0  ...      0      3.5      0   0     2       1\n",
              "2   41    0   1       130   204    0  ...      0      1.4      2   0     2       1\n",
              "3   56    1   1       120   236    0  ...      0      0.8      2   0     2       1\n",
              "4   57    0   0       120   354    0  ...      1      0.6      2   0     2       1\n",
              "\n",
              "[5 rows x 14 columns]"
            ]
          },
          "metadata": {
            "tags": []
          },
          "execution_count": 4
        }
      ]
    },
    {
      "cell_type": "code",
      "metadata": {
        "id": "f_BGgUSixsiN",
        "colab_type": "code",
        "outputId": "7f8081db-ed53-4299-d125-0604fb009a07",
        "colab": {
          "base_uri": "https://localhost:8080/",
          "height": 308
        }
      },
      "source": [
        "# Describe the data using describe method       \n",
        "data.describe()"
      ],
      "execution_count": 5,
      "outputs": [
        {
          "output_type": "execute_result",
          "data": {
            "text/html": [
              "<div>\n",
              "<style scoped>\n",
              "    .dataframe tbody tr th:only-of-type {\n",
              "        vertical-align: middle;\n",
              "    }\n",
              "\n",
              "    .dataframe tbody tr th {\n",
              "        vertical-align: top;\n",
              "    }\n",
              "\n",
              "    .dataframe thead th {\n",
              "        text-align: right;\n",
              "    }\n",
              "</style>\n",
              "<table border=\"1\" class=\"dataframe\">\n",
              "  <thead>\n",
              "    <tr style=\"text-align: right;\">\n",
              "      <th></th>\n",
              "      <th>age</th>\n",
              "      <th>sex</th>\n",
              "      <th>cp</th>\n",
              "      <th>trestbps</th>\n",
              "      <th>chol</th>\n",
              "      <th>fbs</th>\n",
              "      <th>restecg</th>\n",
              "      <th>thalach</th>\n",
              "      <th>exang</th>\n",
              "      <th>oldpeak</th>\n",
              "      <th>slope</th>\n",
              "      <th>ca</th>\n",
              "      <th>thal</th>\n",
              "      <th>target</th>\n",
              "    </tr>\n",
              "  </thead>\n",
              "  <tbody>\n",
              "    <tr>\n",
              "      <th>count</th>\n",
              "      <td>303.000000</td>\n",
              "      <td>303.000000</td>\n",
              "      <td>303.000000</td>\n",
              "      <td>303.000000</td>\n",
              "      <td>303.000000</td>\n",
              "      <td>303.000000</td>\n",
              "      <td>303.000000</td>\n",
              "      <td>303.000000</td>\n",
              "      <td>303.000000</td>\n",
              "      <td>303.000000</td>\n",
              "      <td>303.000000</td>\n",
              "      <td>303.000000</td>\n",
              "      <td>303.000000</td>\n",
              "      <td>303.000000</td>\n",
              "    </tr>\n",
              "    <tr>\n",
              "      <th>mean</th>\n",
              "      <td>54.366337</td>\n",
              "      <td>0.683168</td>\n",
              "      <td>0.966997</td>\n",
              "      <td>131.623762</td>\n",
              "      <td>246.264026</td>\n",
              "      <td>0.148515</td>\n",
              "      <td>0.528053</td>\n",
              "      <td>149.646865</td>\n",
              "      <td>0.326733</td>\n",
              "      <td>1.039604</td>\n",
              "      <td>1.399340</td>\n",
              "      <td>0.729373</td>\n",
              "      <td>2.313531</td>\n",
              "      <td>0.544554</td>\n",
              "    </tr>\n",
              "    <tr>\n",
              "      <th>std</th>\n",
              "      <td>9.082101</td>\n",
              "      <td>0.466011</td>\n",
              "      <td>1.032052</td>\n",
              "      <td>17.538143</td>\n",
              "      <td>51.830751</td>\n",
              "      <td>0.356198</td>\n",
              "      <td>0.525860</td>\n",
              "      <td>22.905161</td>\n",
              "      <td>0.469794</td>\n",
              "      <td>1.161075</td>\n",
              "      <td>0.616226</td>\n",
              "      <td>1.022606</td>\n",
              "      <td>0.612277</td>\n",
              "      <td>0.498835</td>\n",
              "    </tr>\n",
              "    <tr>\n",
              "      <th>min</th>\n",
              "      <td>29.000000</td>\n",
              "      <td>0.000000</td>\n",
              "      <td>0.000000</td>\n",
              "      <td>94.000000</td>\n",
              "      <td>126.000000</td>\n",
              "      <td>0.000000</td>\n",
              "      <td>0.000000</td>\n",
              "      <td>71.000000</td>\n",
              "      <td>0.000000</td>\n",
              "      <td>0.000000</td>\n",
              "      <td>0.000000</td>\n",
              "      <td>0.000000</td>\n",
              "      <td>0.000000</td>\n",
              "      <td>0.000000</td>\n",
              "    </tr>\n",
              "    <tr>\n",
              "      <th>25%</th>\n",
              "      <td>47.500000</td>\n",
              "      <td>0.000000</td>\n",
              "      <td>0.000000</td>\n",
              "      <td>120.000000</td>\n",
              "      <td>211.000000</td>\n",
              "      <td>0.000000</td>\n",
              "      <td>0.000000</td>\n",
              "      <td>133.500000</td>\n",
              "      <td>0.000000</td>\n",
              "      <td>0.000000</td>\n",
              "      <td>1.000000</td>\n",
              "      <td>0.000000</td>\n",
              "      <td>2.000000</td>\n",
              "      <td>0.000000</td>\n",
              "    </tr>\n",
              "    <tr>\n",
              "      <th>50%</th>\n",
              "      <td>55.000000</td>\n",
              "      <td>1.000000</td>\n",
              "      <td>1.000000</td>\n",
              "      <td>130.000000</td>\n",
              "      <td>240.000000</td>\n",
              "      <td>0.000000</td>\n",
              "      <td>1.000000</td>\n",
              "      <td>153.000000</td>\n",
              "      <td>0.000000</td>\n",
              "      <td>0.800000</td>\n",
              "      <td>1.000000</td>\n",
              "      <td>0.000000</td>\n",
              "      <td>2.000000</td>\n",
              "      <td>1.000000</td>\n",
              "    </tr>\n",
              "    <tr>\n",
              "      <th>75%</th>\n",
              "      <td>61.000000</td>\n",
              "      <td>1.000000</td>\n",
              "      <td>2.000000</td>\n",
              "      <td>140.000000</td>\n",
              "      <td>274.500000</td>\n",
              "      <td>0.000000</td>\n",
              "      <td>1.000000</td>\n",
              "      <td>166.000000</td>\n",
              "      <td>1.000000</td>\n",
              "      <td>1.600000</td>\n",
              "      <td>2.000000</td>\n",
              "      <td>1.000000</td>\n",
              "      <td>3.000000</td>\n",
              "      <td>1.000000</td>\n",
              "    </tr>\n",
              "    <tr>\n",
              "      <th>max</th>\n",
              "      <td>77.000000</td>\n",
              "      <td>1.000000</td>\n",
              "      <td>3.000000</td>\n",
              "      <td>200.000000</td>\n",
              "      <td>564.000000</td>\n",
              "      <td>1.000000</td>\n",
              "      <td>2.000000</td>\n",
              "      <td>202.000000</td>\n",
              "      <td>1.000000</td>\n",
              "      <td>6.200000</td>\n",
              "      <td>2.000000</td>\n",
              "      <td>4.000000</td>\n",
              "      <td>3.000000</td>\n",
              "      <td>1.000000</td>\n",
              "    </tr>\n",
              "  </tbody>\n",
              "</table>\n",
              "</div>"
            ],
            "text/plain": [
              "              age         sex          cp  ...          ca        thal      target\n",
              "count  303.000000  303.000000  303.000000  ...  303.000000  303.000000  303.000000\n",
              "mean    54.366337    0.683168    0.966997  ...    0.729373    2.313531    0.544554\n",
              "std      9.082101    0.466011    1.032052  ...    1.022606    0.612277    0.498835\n",
              "min     29.000000    0.000000    0.000000  ...    0.000000    0.000000    0.000000\n",
              "25%     47.500000    0.000000    0.000000  ...    0.000000    2.000000    0.000000\n",
              "50%     55.000000    1.000000    1.000000  ...    0.000000    2.000000    1.000000\n",
              "75%     61.000000    1.000000    2.000000  ...    1.000000    3.000000    1.000000\n",
              "max     77.000000    1.000000    3.000000  ...    4.000000    3.000000    1.000000\n",
              "\n",
              "[8 rows x 14 columns]"
            ]
          },
          "metadata": {
            "tags": []
          },
          "execution_count": 5
        }
      ]
    },
    {
      "cell_type": "code",
      "metadata": {
        "id": "xZLNXY82yXOb",
        "colab_type": "code",
        "outputId": "8d8d3ae4-c4a3-461b-a718-2aae6180c15a",
        "colab": {
          "base_uri": "https://localhost:8080/",
          "height": 399
        }
      },
      "source": [
        "# Lets see if dataset has any missing values\n",
        "data.info()"
      ],
      "execution_count": 6,
      "outputs": [
        {
          "output_type": "stream",
          "text": [
            "<class 'pandas.core.frame.DataFrame'>\n",
            "RangeIndex: 303 entries, 0 to 302\n",
            "Data columns (total 14 columns):\n",
            " #   Column    Non-Null Count  Dtype  \n",
            "---  ------    --------------  -----  \n",
            " 0   age       303 non-null    int64  \n",
            " 1   sex       303 non-null    int64  \n",
            " 2   cp        303 non-null    int64  \n",
            " 3   trestbps  303 non-null    int64  \n",
            " 4   chol      303 non-null    int64  \n",
            " 5   fbs       303 non-null    int64  \n",
            " 6   restecg   303 non-null    int64  \n",
            " 7   thalach   303 non-null    int64  \n",
            " 8   exang     303 non-null    int64  \n",
            " 9   oldpeak   303 non-null    float64\n",
            " 10  slope     303 non-null    int64  \n",
            " 11  ca        303 non-null    int64  \n",
            " 12  thal      303 non-null    int64  \n",
            " 13  target    303 non-null    int64  \n",
            "dtypes: float64(1), int64(13)\n",
            "memory usage: 33.3 KB\n"
          ],
          "name": "stdout"
        }
      ]
    },
    {
      "cell_type": "markdown",
      "metadata": {
        "id": "mnS9RMvCyhhL",
        "colab_type": "text"
      },
      "source": [
        "Here there are no missing values."
      ]
    },
    {
      "cell_type": "markdown",
      "metadata": {
        "id": "jHKre0Hbvzop",
        "colab_type": "text"
      },
      "source": [
        "## **Analyze data**\n",
        "\n",
        "The dataset consists of patients ranging in age from 29 - 77 years old. There are a total of 303 instances and 14 attributes including our target variable. \n",
        "\n",
        "\n"
      ]
    },
    {
      "cell_type": "markdown",
      "metadata": {
        "id": "Wv54rftGy-Oa",
        "colab_type": "text"
      },
      "source": [
        "**Analyze the target  variable**"
      ]
    },
    {
      "cell_type": "code",
      "metadata": {
        "id": "qM-oxnfVzLqh",
        "colab_type": "code",
        "outputId": "61404b0d-c620-4d91-f40a-291b82b390e0",
        "colab": {
          "base_uri": "https://localhost:8080/",
          "height": 334
        }
      },
      "source": [
        "#Draw Bar graph of count distribution of target variable\n",
        "y = data[\"target\"]\n",
        "sns.countplot(y)\n",
        "target = data.target.value_counts()\n",
        "print(target)"
      ],
      "execution_count": 7,
      "outputs": [
        {
          "output_type": "stream",
          "text": [
            "1    165\n",
            "0    138\n",
            "Name: target, dtype: int64\n"
          ],
          "name": "stdout"
        },
        {
          "output_type": "display_data",
          "data": {
            "image/png": "[encoded data removed]",
            "text/plain": [
              "<Figure size 432x288 with 1 Axes>"
            ]
          },
          "metadata": {
            "tags": [],
            "needs_background": "light"
          }
        }
      ]
    },
    {
      "cell_type": "markdown",
      "metadata": {
        "id": "2vf0vz-q3Cd6",
        "colab_type": "text"
      },
      "source": [
        "**Analyze dataset using histogram**"
      ]
    },
    {
      "cell_type": "code",
      "metadata": {
        "id": "ToOp4FZX3Rmi",
        "colab_type": "code",
        "outputId": "49c52d79-83ca-4498-ff7c-eca7a8927cee",
        "colab": {
          "base_uri": "https://localhost:8080/",
          "height": 1000
        }
      },
      "source": [
        "#Analyze whole dataset using Histogram\n",
        "data.hist(figsize=(20,20))\n",
        "plt.show()"
      ],
      "execution_count": 8,
      "outputs": [
        {
          "output_type": "display_data",
          "data": {
            "image/png": "[encoded data removed]",
            "text/plain": [
              "<Figure size 1440x1440 with 16 Axes>"
            ]
          },
          "metadata": {
            "tags": [],
            "needs_background": "light"
          }
        }
      ]
    },
    {
      "cell_type": "markdown",
      "metadata": {
        "id": "RCSnX7w531M5",
        "colab_type": "text"
      },
      "source": [
        "**Analyze data using box plot**"
      ]
    },
    {
      "cell_type": "code",
      "metadata": {
        "id": "zQBgLH7R37FA",
        "colab_type": "code",
        "outputId": "e9c2146c-2b09-4b32-c607-73ea0e35fe6a",
        "colab": {
          "base_uri": "https://localhost:8080/",
          "height": 1000
        }
      },
      "source": [
        "#Analyze whole data using Box plot\n",
        "data.plot(kind='box', subplots=True, layout=(4,4), figsize=(20,20),fontsize=12)\n",
        "plt.show()"
      ],
      "execution_count": 9,
      "outputs": [
        {
          "output_type": "display_data",
          "data": {
            "image/png": "[encoded data removed]",
            "text/plain": [
              "<Figure size 1440x1440 with 16 Axes>"
            ]
          },
          "metadata": {
            "tags": [],
            "needs_background": "light"
          }
        }
      ]
    },
    {
      "cell_type": "markdown",
      "metadata": {
        "id": "Xp1dJzONzlkA",
        "colab_type": "text"
      },
      "source": [
        "**Analyze the Sex variable wrt target variable**"
      ]
    },
    {
      "cell_type": "code",
      "metadata": {
        "id": "NKj-KCmezoOZ",
        "colab_type": "code",
        "outputId": "433b7f12-248c-4649-f966-f719ab4eedd2",
        "colab": {
          "base_uri": "https://localhost:8080/",
          "height": 297
        }
      },
      "source": [
        "# Plot Bar graph with x axis represnting sex and y axis representing target\n",
        "sns.barplot(data[\"sex\"],data[\"target\"])"
      ],
      "execution_count": 10,
      "outputs": [
        {
          "output_type": "execute_result",
          "data": {
            "text/plain": [
              "<matplotlib.axes._subplots.AxesSubplot at 0x7f4e8d727e80>"
            ]
          },
          "metadata": {
            "tags": []
          },
          "execution_count": 10
        },
        {
          "output_type": "display_data",
          "data": {
            "image/png": "[encoded data removed]",
            "text/plain": [
              "<Figure size 432x288 with 1 Axes>"
            ]
          },
          "metadata": {
            "tags": [],
            "needs_background": "light"
          }
        }
      ]
    },
    {
      "cell_type": "markdown",
      "metadata": {
        "id": "jr5uqOVG3lri",
        "colab_type": "text"
      },
      "source": [
        "\n",
        "*We notice, that females are more likely to have heart problems than males*"
      ]
    },
    {
      "cell_type": "markdown",
      "metadata": {
        "id": "NRTc8zu14BuR",
        "colab_type": "text"
      },
      "source": [
        "**Analyze slope feature  wrt target**"
      ]
    },
    {
      "cell_type": "code",
      "metadata": {
        "id": "9LZ51ALFzSEP",
        "colab_type": "code",
        "outputId": "90acb158-6691-4ecb-a116-eb03541dbf57",
        "colab": {
          "base_uri": "https://localhost:8080/",
          "height": 35
        }
      },
      "source": [
        "# Describe unique values of slope variable\n",
        "data[\"slope\"].unique()"
      ],
      "execution_count": 11,
      "outputs": [
        {
          "output_type": "execute_result",
          "data": {
            "text/plain": [
              "array([0, 2, 1])"
            ]
          },
          "metadata": {
            "tags": []
          },
          "execution_count": 11
        }
      ]
    },
    {
      "cell_type": "code",
      "metadata": {
        "id": "NAAU8uiR2NzU",
        "colab_type": "code",
        "outputId": "453793e0-32cd-4cda-baee-3dec0cd37ded",
        "colab": {
          "base_uri": "https://localhost:8080/",
          "height": 297
        }
      },
      "source": [
        "# Plot Bar graph with x axis represnting slope and y axis representing target\n",
        "sns.barplot(data[\"slope\"],y)"
      ],
      "execution_count": 12,
      "outputs": [
        {
          "output_type": "execute_result",
          "data": {
            "text/plain": [
              "<matplotlib.axes._subplots.AxesSubplot at 0x7f4e8d6d45f8>"
            ]
          },
          "metadata": {
            "tags": []
          },
          "execution_count": 12
        },
        {
          "output_type": "display_data",
          "data": {
            "image/png": "[encoded data removed]",
            "text/plain": [
              "<Figure size 432x288 with 1 Axes>"
            ]
          },
          "metadata": {
            "tags": [],
            "needs_background": "light"
          }
        }
      ]
    },
    {
      "cell_type": "markdown",
      "metadata": {
        "id": "k1XxHfJE5DZg",
        "colab_type": "text"
      },
      "source": [
        "*We observe, that Slope '2' causes heart pain much more than Slope '0' and '1'*\n"
      ]
    },
    {
      "cell_type": "markdown",
      "metadata": {
        "id": "b68gfl6y50tr",
        "colab_type": "text"
      },
      "source": [
        "**Analysing the 'ca' feature wrt target**\n"
      ]
    },
    {
      "cell_type": "code",
      "metadata": {
        "id": "nSs4En375A_0",
        "colab_type": "code",
        "outputId": "a2e86ac8-b819-4063-a319-a4103a670c32",
        "colab": {
          "base_uri": "https://localhost:8080/",
          "height": 35
        }
      },
      "source": [
        "#Describe unique value of ca\n",
        "data[\"ca\"].unique()"
      ],
      "execution_count": 13,
      "outputs": [
        {
          "output_type": "execute_result",
          "data": {
            "text/plain": [
              "array([0, 2, 1, 3, 4])"
            ]
          },
          "metadata": {
            "tags": []
          },
          "execution_count": 13
        }
      ]
    },
    {
      "cell_type": "code",
      "metadata": {
        "id": "jhnIP4pt57eU",
        "colab_type": "code",
        "outputId": "aca5ad54-0b5a-4313-ae41-17520a224d8b",
        "colab": {
          "base_uri": "https://localhost:8080/",
          "height": 297
        }
      },
      "source": [
        "# Plot Bar graph with x axis represnting ca and y axis representing target\n",
        "sns.barplot(data[\"ca\"],data[\"target\"])"
      ],
      "execution_count": 14,
      "outputs": [
        {
          "output_type": "execute_result",
          "data": {
            "text/plain": [
              "<matplotlib.axes._subplots.AxesSubplot at 0x7f4e8d794048>"
            ]
          },
          "metadata": {
            "tags": []
          },
          "execution_count": 14
        },
        {
          "output_type": "display_data",
          "data": {
            "image/png": "[encoded data removed]",
            "text/plain": [
              "<Figure size 432x288 with 1 Axes>"
            ]
          },
          "metadata": {
            "tags": [],
            "needs_background": "light"
          }
        }
      ]
    },
    {
      "cell_type": "markdown",
      "metadata": {
        "id": "srAE9c6l6JNd",
        "colab_type": "text"
      },
      "source": [
        "*ca=4 and c=0 has astonishingly large number of heart patients*\n",
        "\n"
      ]
    },
    {
      "cell_type": "markdown",
      "metadata": {
        "id": "L4agS8QVr97l",
        "colab_type": "text"
      },
      "source": [
        "**Corelation Matrices**\n",
        "\n",
        "A much more common metric, and one directly calculable from the covariance, is the correlation."
      ]
    },
    {
      "cell_type": "code",
      "metadata": {
        "id": "4v-W3Ldtrusp",
        "colab_type": "code",
        "colab": {
          "base_uri": "https://localhost:8080/",
          "height": 326
        },
        "outputId": "e2e01cdc-5517-4797-b83e-2f89458e63b9"
      },
      "source": [
        "set_option('precision', 2) \n",
        "print(data.corr(method='pearson'))"
      ],
      "execution_count": 29,
      "outputs": [
        {
          "output_type": "stream",
          "text": [
            "           age   sex    cp  trestbps  ...     slope    ca  thal  target\n",
            "age       1.00 -0.10 -0.07      0.28  ... -1.69e-01  0.28  0.07   -0.23\n",
            "sex      -0.10  1.00 -0.05     -0.06  ... -3.07e-02  0.12  0.21   -0.28\n",
            "cp       -0.07 -0.05  1.00      0.05  ...  1.20e-01 -0.18 -0.16    0.43\n",
            "trestbps  0.28 -0.06  0.05      1.00  ... -1.21e-01  0.10  0.06   -0.14\n",
            "chol      0.21 -0.20 -0.08      0.12  ... -4.04e-03  0.07  0.10   -0.09\n",
            "fbs       0.12  0.05  0.09      0.18  ... -5.99e-02  0.14 -0.03   -0.03\n",
            "restecg  -0.12 -0.06  0.04     -0.11  ...  9.30e-02 -0.07 -0.01    0.14\n",
            "thalach  -0.40 -0.04  0.30     -0.05  ...  3.87e-01 -0.21 -0.10    0.42\n",
            "exang     0.10  0.14 -0.39      0.07  ... -2.58e-01  0.12  0.21   -0.44\n",
            "oldpeak   0.21  0.10 -0.15      0.19  ... -5.78e-01  0.22  0.21   -0.43\n",
            "slope    -0.17 -0.03  0.12     -0.12  ...  1.00e+00 -0.08 -0.10    0.35\n",
            "ca        0.28  0.12 -0.18      0.10  ... -8.02e-02  1.00  0.15   -0.39\n",
            "thal      0.07  0.21 -0.16      0.06  ... -1.05e-01  0.15  1.00   -0.34\n",
            "target   -0.23 -0.28  0.43     -0.14  ...  3.46e-01 -0.39 -0.34    1.00\n",
            "\n",
            "[14 rows x 14 columns]\n"
          ],
          "name": "stdout"
        }
      ]
    },
    {
      "cell_type": "markdown",
      "metadata": {
        "id": "C1FwVpNl8Kfx",
        "colab_type": "text"
      },
      "source": [
        "##**Building Model**"
      ]
    },
    {
      "cell_type": "markdown",
      "metadata": {
        "id": "pT26IIuF8RMa",
        "colab_type": "text"
      },
      "source": [
        "**Train-test split**"
      ]
    },
    {
      "cell_type": "code",
      "metadata": {
        "id": "FLPRAyr76Fw_",
        "colab_type": "code",
        "colab": {}
      },
      "source": [
        "x = data.drop(\"target\",axis=1)\n",
        "y = data[\"target\"]\n",
        "X_train,X_test,Y_train,Y_test = train_test_split(x,y,test_size=0.20,random_state=0)"
      ],
      "execution_count": 0,
      "outputs": []
    },
    {
      "cell_type": "code",
      "metadata": {
        "id": "_8aJNXEF6DMK",
        "colab_type": "code",
        "outputId": "249b1b5d-4f23-4560-b7bb-b17a337b0adb",
        "colab": {
          "base_uri": "https://localhost:8080/",
          "height": 35
        }
      },
      "source": [
        "#Shape of train dataset\n",
        "X_train.shape"
      ],
      "execution_count": 16,
      "outputs": [
        {
          "output_type": "execute_result",
          "data": {
            "text/plain": [
              "(242, 13)"
            ]
          },
          "metadata": {
            "tags": []
          },
          "execution_count": 16
        }
      ]
    },
    {
      "cell_type": "code",
      "metadata": {
        "id": "famFiwhm838n",
        "colab_type": "code",
        "outputId": "ca0f2caa-c38b-4593-ce80-ab80c6ce7e1c",
        "colab": {
          "base_uri": "https://localhost:8080/",
          "height": 35
        }
      },
      "source": [
        "#Shape of target train dataset\n",
        "Y_train.shape"
      ],
      "execution_count": 17,
      "outputs": [
        {
          "output_type": "execute_result",
          "data": {
            "text/plain": [
              "(242,)"
            ]
          },
          "metadata": {
            "tags": []
          },
          "execution_count": 17
        }
      ]
    },
    {
      "cell_type": "code",
      "metadata": {
        "id": "lTIRCQ8J9Rat",
        "colab_type": "code",
        "outputId": "326df136-763a-48ea-aeea-67ba97990d09",
        "colab": {
          "base_uri": "https://localhost:8080/",
          "height": 35
        }
      },
      "source": [
        "#Shape of test dataset\n",
        "X_test.shape"
      ],
      "execution_count": 18,
      "outputs": [
        {
          "output_type": "execute_result",
          "data": {
            "text/plain": [
              "(61, 13)"
            ]
          },
          "metadata": {
            "tags": []
          },
          "execution_count": 18
        }
      ]
    },
    {
      "cell_type": "code",
      "metadata": {
        "id": "FyXKJXeB9WJc",
        "colab_type": "code",
        "outputId": "ff67b272-37d4-4f12-a272-9a97f7361b4b",
        "colab": {
          "base_uri": "https://localhost:8080/",
          "height": 35
        }
      },
      "source": [
        "#Shape of target test dataset\n",
        "Y_test.shape"
      ],
      "execution_count": 19,
      "outputs": [
        {
          "output_type": "execute_result",
          "data": {
            "text/plain": [
              "(61,)"
            ]
          },
          "metadata": {
            "tags": []
          },
          "execution_count": 19
        }
      ]
    },
    {
      "cell_type": "markdown",
      "metadata": {
        "id": "u4nX_ll79pUH",
        "colab_type": "text"
      },
      "source": [
        "**K Nearest Neighbors**\n"
      ]
    },
    {
      "cell_type": "code",
      "metadata": {
        "id": "nTm_D8LR9b5T",
        "colab_type": "code",
        "colab": {}
      },
      "source": [
        "#Build KNN model using Inbuilt classifier scikit learn\n",
        "knn = KNeighborsClassifier(n_neighbors=7)\n",
        "knn.fit(X_train,Y_train)\n",
        "Y_pred_knn=knn.predict(X_test)"
      ],
      "execution_count": 0,
      "outputs": []
    },
    {
      "cell_type": "markdown",
      "metadata": {
        "id": "wdJAZ_thAq8-",
        "colab_type": "text"
      },
      "source": [
        "**Neural Network**"
      ]
    },
    {
      "cell_type": "code",
      "metadata": {
        "id": "N2Q6dD43_8yf",
        "colab_type": "code",
        "colab": {}
      },
      "source": [
        "# Build Neural network using keras\n",
        "model = Sequential()\n",
        "model.add(Dense(7,activation='relu',input_dim=13))\n",
        "model.add(Dense(1,activation='sigmoid'))\n",
        "\n",
        "model.compile(loss='binary_crossentropy',optimizer='adam',metrics=['accuracy'])"
      ],
      "execution_count": 0,
      "outputs": []
    },
    {
      "cell_type": "code",
      "metadata": {
        "id": "jTlIueZ3BIDx",
        "colab_type": "code",
        "outputId": "152b1644-0f61-4fa2-a322-b17fd44d33aa",
        "colab": {
          "base_uri": "https://localhost:8080/",
          "height": 235
        }
      },
      "source": [
        "#Show the summary of the  Neural network  model\n",
        "model.summary()"
      ],
      "execution_count": 22,
      "outputs": [
        {
          "output_type": "stream",
          "text": [
            "Model: \"sequential_1\"\n",
            "_________________________________________________________________\n",
            "Layer (type)                 Output Shape              Param #   \n",
            "=================================================================\n",
            "dense_1 (Dense)              (None, 7)                 98        \n",
            "_________________________________________________________________\n",
            "dense_2 (Dense)              (None, 1)                 8         \n",
            "=================================================================\n",
            "Total params: 106\n",
            "Trainable params: 106\n",
            "Non-trainable params: 0\n",
            "_________________________________________________________________\n"
          ],
          "name": "stdout"
        }
      ]
    },
    {
      "cell_type": "markdown",
      "metadata": {
        "id": "K0Pzb6j9k-8f",
        "colab_type": "text"
      },
      "source": [
        "##**Training and Validating Model**"
      ]
    },
    {
      "cell_type": "markdown",
      "metadata": {
        "id": "AvUFmkPrlP2o",
        "colab_type": "text"
      },
      "source": [
        "**K Nearest Neighbours**"
      ]
    },
    {
      "cell_type": "code",
      "metadata": {
        "id": "krjjXos6lWBn",
        "colab_type": "code",
        "colab": {
          "base_uri": "https://localhost:8080/",
          "height": 35
        },
        "outputId": "5cab3b9a-bae5-4a8b-e578-f93579ba7144"
      },
      "source": [
        "# Accuracy Score \n",
        "score_knn = round(accuracy_score(Y_test,Y_pred_knn)*100,2)\n",
        "print(\"The accuracy score achieved using KNN is: \"+str(score_knn)+\" %\")"
      ],
      "execution_count": 23,
      "outputs": [
        {
          "output_type": "stream",
          "text": [
            "The accuracy score achieved using KNN is: 67.21 %\n"
          ],
          "name": "stdout"
        }
      ]
    },
    {
      "cell_type": "markdown",
      "metadata": {
        "id": "NAm3hwvjlYhW",
        "colab_type": "text"
      },
      "source": [
        "**Neural Network**"
      ]
    },
    {
      "cell_type": "code",
      "metadata": {
        "id": "qaQzxeFYAr2N",
        "colab_type": "code",
        "outputId": "b5846455-d14f-4dd0-ac46-737799c06222",
        "colab": {
          "base_uri": "https://localhost:8080/",
          "height": 1000
        }
      },
      "source": [
        "# Train your neural network with 250 epochs\n",
        "model.fit(X_train, Y_train, epochs=250, validation_data=(X_test, Y_test))"
      ],
      "execution_count": 24,
      "outputs": [
        {
          "output_type": "stream",
          "text": [
            "Train on 242 samples, validate on 61 samples\n",
            "Epoch 1/250\n",
            "242/242 [==============================] - 0s 1ms/step - loss: 29.1294 - accuracy: 0.4587 - val_loss: 25.8835 - val_accuracy: 0.4426\n",
            "Epoch 2/250\n",
            "242/242 [==============================] - 0s 66us/step - loss: 24.7124 - accuracy: 0.4587 - val_loss: 21.3832 - val_accuracy: 0.4426\n",
            "Epoch 3/250\n",
            "242/242 [==============================] - 0s 67us/step - loss: 20.1920 - accuracy: 0.4587 - val_loss: 16.8428 - val_accuracy: 0.4426\n",
            "Epoch 4/250\n",
            "242/242 [==============================] - 0s 64us/step - loss: 15.6996 - accuracy: 0.4587 - val_loss: 12.3067 - val_accuracy: 0.4590\n",
            "Epoch 5/250\n",
            "242/242 [==============================] - 0s 59us/step - loss: 10.9741 - accuracy: 0.4587 - val_loss: 7.9012 - val_accuracy: 0.4754\n",
            "Epoch 6/250\n",
            "242/242 [==============================] - 0s 60us/step - loss: 6.7996 - accuracy: 0.5331 - val_loss: 4.0843 - val_accuracy: 0.6066\n",
            "Epoch 7/250\n",
            "242/242 [==============================] - 0s 60us/step - loss: 3.8696 - accuracy: 0.6033 - val_loss: 2.5228 - val_accuracy: 0.7049\n",
            "Epoch 8/250\n",
            "242/242 [==============================] - 0s 61us/step - loss: 2.7772 - accuracy: 0.6405 - val_loss: 2.2802 - val_accuracy: 0.6557\n",
            "Epoch 9/250\n",
            "242/242 [==============================] - 0s 64us/step - loss: 2.7201 - accuracy: 0.6901 - val_loss: 2.3635 - val_accuracy: 0.6066\n",
            "Epoch 10/250\n",
            "242/242 [==============================] - 0s 60us/step - loss: 2.7549 - accuracy: 0.6901 - val_loss: 2.3416 - val_accuracy: 0.6230\n",
            "Epoch 11/250\n",
            "242/242 [==============================] - 0s 59us/step - loss: 2.6903 - accuracy: 0.6942 - val_loss: 2.2704 - val_accuracy: 0.6393\n",
            "Epoch 12/250\n",
            "242/242 [==============================] - 0s 57us/step - loss: 2.6183 - accuracy: 0.6736 - val_loss: 2.2336 - val_accuracy: 0.6557\n",
            "Epoch 13/250\n",
            "242/242 [==============================] - 0s 60us/step - loss: 2.5955 - accuracy: 0.6612 - val_loss: 2.2139 - val_accuracy: 0.7049\n",
            "Epoch 14/250\n",
            "242/242 [==============================] - 0s 65us/step - loss: 2.5641 - accuracy: 0.6612 - val_loss: 2.1966 - val_accuracy: 0.6885\n",
            "Epoch 15/250\n",
            "242/242 [==============================] - 0s 63us/step - loss: 2.5440 - accuracy: 0.6653 - val_loss: 2.1788 - val_accuracy: 0.6885\n",
            "Epoch 16/250\n",
            "242/242 [==============================] - 0s 63us/step - loss: 2.5247 - accuracy: 0.6653 - val_loss: 2.1614 - val_accuracy: 0.7049\n",
            "Epoch 17/250\n",
            "242/242 [==============================] - 0s 61us/step - loss: 2.4976 - accuracy: 0.6612 - val_loss: 2.1439 - val_accuracy: 0.6885\n",
            "Epoch 18/250\n",
            "242/242 [==============================] - 0s 63us/step - loss: 2.4807 - accuracy: 0.6653 - val_loss: 2.1295 - val_accuracy: 0.6721\n",
            "Epoch 19/250\n",
            "242/242 [==============================] - 0s 83us/step - loss: 2.4528 - accuracy: 0.6612 - val_loss: 2.1107 - val_accuracy: 0.6721\n",
            "Epoch 20/250\n",
            "242/242 [==============================] - 0s 66us/step - loss: 2.4358 - accuracy: 0.6612 - val_loss: 2.0900 - val_accuracy: 0.7049\n",
            "Epoch 21/250\n",
            "242/242 [==============================] - 0s 64us/step - loss: 2.4040 - accuracy: 0.6570 - val_loss: 2.0718 - val_accuracy: 0.6721\n",
            "Epoch 22/250\n",
            "242/242 [==============================] - 0s 65us/step - loss: 2.3853 - accuracy: 0.6736 - val_loss: 2.0538 - val_accuracy: 0.6721\n",
            "Epoch 23/250\n",
            "242/242 [==============================] - 0s 63us/step - loss: 2.3563 - accuracy: 0.6653 - val_loss: 2.0338 - val_accuracy: 0.6885\n",
            "Epoch 24/250\n",
            "242/242 [==============================] - 0s 60us/step - loss: 2.3332 - accuracy: 0.6612 - val_loss: 2.0139 - val_accuracy: 0.6885\n",
            "Epoch 25/250\n",
            "242/242 [==============================] - 0s 66us/step - loss: 2.3179 - accuracy: 0.6488 - val_loss: 1.9979 - val_accuracy: 0.7049\n",
            "Epoch 26/250\n",
            "242/242 [==============================] - 0s 60us/step - loss: 2.2810 - accuracy: 0.6488 - val_loss: 1.9753 - val_accuracy: 0.7049\n",
            "Epoch 27/250\n",
            "242/242 [==============================] - 0s 77us/step - loss: 2.2645 - accuracy: 0.6694 - val_loss: 1.9574 - val_accuracy: 0.6557\n",
            "Epoch 28/250\n",
            "242/242 [==============================] - 0s 61us/step - loss: 2.2418 - accuracy: 0.6777 - val_loss: 1.9351 - val_accuracy: 0.7049\n",
            "Epoch 29/250\n",
            "242/242 [==============================] - 0s 59us/step - loss: 2.2099 - accuracy: 0.6653 - val_loss: 1.9140 - val_accuracy: 0.6885\n",
            "Epoch 30/250\n",
            "242/242 [==============================] - 0s 59us/step - loss: 2.1864 - accuracy: 0.6570 - val_loss: 1.8936 - val_accuracy: 0.7049\n",
            "Epoch 31/250\n",
            "242/242 [==============================] - 0s 64us/step - loss: 2.1578 - accuracy: 0.6612 - val_loss: 1.8711 - val_accuracy: 0.7049\n",
            "Epoch 32/250\n",
            "242/242 [==============================] - 0s 75us/step - loss: 2.1380 - accuracy: 0.6694 - val_loss: 1.8489 - val_accuracy: 0.6885\n",
            "Epoch 33/250\n",
            "242/242 [==============================] - 0s 72us/step - loss: 2.1277 - accuracy: 0.6570 - val_loss: 1.8371 - val_accuracy: 0.7049\n",
            "Epoch 34/250\n",
            "242/242 [==============================] - 0s 59us/step - loss: 2.0895 - accuracy: 0.6529 - val_loss: 1.8080 - val_accuracy: 0.7049\n",
            "Epoch 35/250\n",
            "242/242 [==============================] - 0s 59us/step - loss: 2.0591 - accuracy: 0.6529 - val_loss: 1.7861 - val_accuracy: 0.7049\n",
            "Epoch 36/250\n",
            "242/242 [==============================] - 0s 69us/step - loss: 2.0316 - accuracy: 0.6612 - val_loss: 1.7646 - val_accuracy: 0.7049\n",
            "Epoch 37/250\n",
            "242/242 [==============================] - 0s 81us/step - loss: 2.0172 - accuracy: 0.6818 - val_loss: 1.7425 - val_accuracy: 0.6885\n",
            "Epoch 38/250\n",
            "242/242 [==============================] - 0s 63us/step - loss: 1.9824 - accuracy: 0.6736 - val_loss: 1.7227 - val_accuracy: 0.7049\n",
            "Epoch 39/250\n",
            "242/242 [==============================] - 0s 66us/step - loss: 1.9589 - accuracy: 0.6694 - val_loss: 1.6996 - val_accuracy: 0.7049\n",
            "Epoch 40/250\n",
            "242/242 [==============================] - 0s 63us/step - loss: 1.9286 - accuracy: 0.6653 - val_loss: 1.6773 - val_accuracy: 0.6885\n",
            "Epoch 41/250\n",
            "242/242 [==============================] - 0s 67us/step - loss: 1.9056 - accuracy: 0.6818 - val_loss: 1.6558 - val_accuracy: 0.7049\n",
            "Epoch 42/250\n",
            "242/242 [==============================] - 0s 68us/step - loss: 1.8793 - accuracy: 0.6818 - val_loss: 1.6343 - val_accuracy: 0.7049\n",
            "Epoch 43/250\n",
            "242/242 [==============================] - 0s 72us/step - loss: 1.8544 - accuracy: 0.6777 - val_loss: 1.6111 - val_accuracy: 0.7049\n",
            "Epoch 44/250\n",
            "242/242 [==============================] - 0s 63us/step - loss: 1.8334 - accuracy: 0.6653 - val_loss: 1.5918 - val_accuracy: 0.7213\n",
            "Epoch 45/250\n",
            "242/242 [==============================] - 0s 58us/step - loss: 1.8085 - accuracy: 0.6736 - val_loss: 1.5661 - val_accuracy: 0.7049\n",
            "Epoch 46/250\n",
            "242/242 [==============================] - 0s 60us/step - loss: 1.7818 - accuracy: 0.6777 - val_loss: 1.5434 - val_accuracy: 0.7049\n",
            "Epoch 47/250\n",
            "242/242 [==============================] - 0s 58us/step - loss: 1.7536 - accuracy: 0.6694 - val_loss: 1.5216 - val_accuracy: 0.7049\n",
            "Epoch 48/250\n",
            "242/242 [==============================] - 0s 60us/step - loss: 1.7285 - accuracy: 0.6736 - val_loss: 1.4990 - val_accuracy: 0.7049\n",
            "Epoch 49/250\n",
            "242/242 [==============================] - 0s 60us/step - loss: 1.7115 - accuracy: 0.6818 - val_loss: 1.4760 - val_accuracy: 0.6885\n",
            "Epoch 50/250\n",
            "242/242 [==============================] - 0s 72us/step - loss: 1.6803 - accuracy: 0.6818 - val_loss: 1.4538 - val_accuracy: 0.7049\n",
            "Epoch 51/250\n",
            "242/242 [==============================] - 0s 67us/step - loss: 1.6575 - accuracy: 0.6818 - val_loss: 1.4341 - val_accuracy: 0.7049\n",
            "Epoch 52/250\n",
            "242/242 [==============================] - 0s 71us/step - loss: 1.6331 - accuracy: 0.6777 - val_loss: 1.4108 - val_accuracy: 0.7049\n",
            "Epoch 53/250\n",
            "242/242 [==============================] - 0s 60us/step - loss: 1.6226 - accuracy: 0.6777 - val_loss: 1.3872 - val_accuracy: 0.7049\n",
            "Epoch 54/250\n",
            "242/242 [==============================] - 0s 70us/step - loss: 1.5814 - accuracy: 0.6818 - val_loss: 1.3661 - val_accuracy: 0.7049\n",
            "Epoch 55/250\n",
            "242/242 [==============================] - 0s 71us/step - loss: 1.5614 - accuracy: 0.6777 - val_loss: 1.3457 - val_accuracy: 0.7049\n",
            "Epoch 56/250\n",
            "242/242 [==============================] - 0s 60us/step - loss: 1.5442 - accuracy: 0.6818 - val_loss: 1.3209 - val_accuracy: 0.7049\n",
            "Epoch 57/250\n",
            "242/242 [==============================] - 0s 72us/step - loss: 1.5157 - accuracy: 0.6901 - val_loss: 1.3013 - val_accuracy: 0.6885\n",
            "Epoch 58/250\n",
            "242/242 [==============================] - 0s 64us/step - loss: 1.5035 - accuracy: 0.6777 - val_loss: 1.2770 - val_accuracy: 0.7049\n",
            "Epoch 59/250\n",
            "242/242 [==============================] - 0s 64us/step - loss: 1.4690 - accuracy: 0.6860 - val_loss: 1.2577 - val_accuracy: 0.7049\n",
            "Epoch 60/250\n",
            "242/242 [==============================] - 0s 63us/step - loss: 1.4499 - accuracy: 0.6860 - val_loss: 1.2376 - val_accuracy: 0.7049\n",
            "Epoch 61/250\n",
            "242/242 [==============================] - 0s 77us/step - loss: 1.4270 - accuracy: 0.6901 - val_loss: 1.2173 - val_accuracy: 0.7049\n",
            "Epoch 62/250\n",
            "242/242 [==============================] - 0s 63us/step - loss: 1.4091 - accuracy: 0.6901 - val_loss: 1.1977 - val_accuracy: 0.6885\n",
            "Epoch 63/250\n",
            "242/242 [==============================] - 0s 64us/step - loss: 1.3884 - accuracy: 0.6901 - val_loss: 1.1773 - val_accuracy: 0.7049\n",
            "Epoch 64/250\n",
            "242/242 [==============================] - 0s 63us/step - loss: 1.3691 - accuracy: 0.6860 - val_loss: 1.1589 - val_accuracy: 0.7049\n",
            "Epoch 65/250\n",
            "242/242 [==============================] - 0s 62us/step - loss: 1.3498 - accuracy: 0.7025 - val_loss: 1.1412 - val_accuracy: 0.6885\n",
            "Epoch 66/250\n",
            "242/242 [==============================] - 0s 65us/step - loss: 1.3393 - accuracy: 0.7025 - val_loss: 1.1240 - val_accuracy: 0.6885\n",
            "Epoch 67/250\n",
            "242/242 [==============================] - 0s 64us/step - loss: 1.3150 - accuracy: 0.6983 - val_loss: 1.1103 - val_accuracy: 0.7049\n",
            "Epoch 68/250\n",
            "242/242 [==============================] - 0s 60us/step - loss: 1.3087 - accuracy: 0.6860 - val_loss: 1.0969 - val_accuracy: 0.7049\n",
            "Epoch 69/250\n",
            "242/242 [==============================] - 0s 60us/step - loss: 1.2699 - accuracy: 0.6860 - val_loss: 1.0736 - val_accuracy: 0.7049\n",
            "Epoch 70/250\n",
            "242/242 [==============================] - 0s 86us/step - loss: 1.2721 - accuracy: 0.7107 - val_loss: 1.0676 - val_accuracy: 0.6557\n",
            "Epoch 71/250\n",
            "242/242 [==============================] - 0s 59us/step - loss: 1.2444 - accuracy: 0.7149 - val_loss: 1.0418 - val_accuracy: 0.7049\n",
            "Epoch 72/250\n",
            "242/242 [==============================] - 0s 63us/step - loss: 1.2327 - accuracy: 0.6818 - val_loss: 1.0356 - val_accuracy: 0.7049\n",
            "Epoch 73/250\n",
            "242/242 [==============================] - 0s 60us/step - loss: 1.2106 - accuracy: 0.6901 - val_loss: 1.0117 - val_accuracy: 0.7049\n",
            "Epoch 74/250\n",
            "242/242 [==============================] - 0s 68us/step - loss: 1.1941 - accuracy: 0.7025 - val_loss: 0.9968 - val_accuracy: 0.7049\n",
            "Epoch 75/250\n",
            "242/242 [==============================] - 0s 63us/step - loss: 1.1779 - accuracy: 0.7066 - val_loss: 0.9839 - val_accuracy: 0.7049\n",
            "Epoch 76/250\n",
            "242/242 [==============================] - 0s 63us/step - loss: 1.1610 - accuracy: 0.7066 - val_loss: 0.9669 - val_accuracy: 0.7049\n",
            "Epoch 77/250\n",
            "242/242 [==============================] - 0s 61us/step - loss: 1.1437 - accuracy: 0.7107 - val_loss: 0.9555 - val_accuracy: 0.7049\n",
            "Epoch 78/250\n",
            "242/242 [==============================] - 0s 61us/step - loss: 1.1320 - accuracy: 0.6983 - val_loss: 0.9393 - val_accuracy: 0.6885\n",
            "Epoch 79/250\n",
            "242/242 [==============================] - 0s 72us/step - loss: 1.1075 - accuracy: 0.6983 - val_loss: 0.9231 - val_accuracy: 0.7049\n",
            "Epoch 80/250\n",
            "242/242 [==============================] - 0s 62us/step - loss: 1.0973 - accuracy: 0.7190 - val_loss: 0.9069 - val_accuracy: 0.7213\n",
            "Epoch 81/250\n",
            "242/242 [==============================] - 0s 62us/step - loss: 1.0873 - accuracy: 0.7149 - val_loss: 0.8941 - val_accuracy: 0.7049\n",
            "Epoch 82/250\n",
            "242/242 [==============================] - 0s 61us/step - loss: 1.0633 - accuracy: 0.7107 - val_loss: 0.8793 - val_accuracy: 0.7049\n",
            "Epoch 83/250\n",
            "242/242 [==============================] - 0s 61us/step - loss: 1.0469 - accuracy: 0.7025 - val_loss: 0.8634 - val_accuracy: 0.7049\n",
            "Epoch 84/250\n",
            "242/242 [==============================] - 0s 65us/step - loss: 1.0286 - accuracy: 0.7149 - val_loss: 0.8418 - val_accuracy: 0.7213\n",
            "Epoch 85/250\n",
            "242/242 [==============================] - 0s 70us/step - loss: 1.0081 - accuracy: 0.7149 - val_loss: 0.8240 - val_accuracy: 0.7049\n",
            "Epoch 86/250\n",
            "242/242 [==============================] - 0s 67us/step - loss: 0.9894 - accuracy: 0.7066 - val_loss: 0.8156 - val_accuracy: 0.7049\n",
            "Epoch 87/250\n",
            "242/242 [==============================] - 0s 72us/step - loss: 0.9769 - accuracy: 0.7025 - val_loss: 0.7903 - val_accuracy: 0.7049\n",
            "Epoch 88/250\n",
            "242/242 [==============================] - 0s 61us/step - loss: 0.9496 - accuracy: 0.7231 - val_loss: 0.7803 - val_accuracy: 0.7049\n",
            "Epoch 89/250\n",
            "242/242 [==============================] - 0s 64us/step - loss: 0.9343 - accuracy: 0.7190 - val_loss: 0.7546 - val_accuracy: 0.7213\n",
            "Epoch 90/250\n",
            "242/242 [==============================] - 0s 62us/step - loss: 0.9099 - accuracy: 0.7149 - val_loss: 0.7342 - val_accuracy: 0.7049\n",
            "Epoch 91/250\n",
            "242/242 [==============================] - 0s 60us/step - loss: 0.8864 - accuracy: 0.7190 - val_loss: 0.7158 - val_accuracy: 0.7049\n",
            "Epoch 92/250\n",
            "242/242 [==============================] - 0s 62us/step - loss: 0.8691 - accuracy: 0.7190 - val_loss: 0.6986 - val_accuracy: 0.7049\n",
            "Epoch 93/250\n",
            "242/242 [==============================] - 0s 61us/step - loss: 0.8710 - accuracy: 0.7107 - val_loss: 0.6857 - val_accuracy: 0.7377\n",
            "Epoch 94/250\n",
            "242/242 [==============================] - 0s 61us/step - loss: 0.8331 - accuracy: 0.7149 - val_loss: 0.6676 - val_accuracy: 0.7049\n",
            "Epoch 95/250\n",
            "242/242 [==============================] - 0s 60us/step - loss: 0.8085 - accuracy: 0.7231 - val_loss: 0.6468 - val_accuracy: 0.7049\n",
            "Epoch 96/250\n",
            "242/242 [==============================] - 0s 61us/step - loss: 0.7844 - accuracy: 0.7231 - val_loss: 0.6295 - val_accuracy: 0.7049\n",
            "Epoch 97/250\n",
            "242/242 [==============================] - 0s 57us/step - loss: 0.7638 - accuracy: 0.7190 - val_loss: 0.6122 - val_accuracy: 0.7049\n",
            "Epoch 98/250\n",
            "242/242 [==============================] - 0s 64us/step - loss: 0.7488 - accuracy: 0.7190 - val_loss: 0.5987 - val_accuracy: 0.7377\n",
            "Epoch 99/250\n",
            "242/242 [==============================] - 0s 68us/step - loss: 0.7206 - accuracy: 0.7314 - val_loss: 0.5866 - val_accuracy: 0.7049\n",
            "Epoch 100/250\n",
            "242/242 [==============================] - 0s 72us/step - loss: 0.7145 - accuracy: 0.7231 - val_loss: 0.5717 - val_accuracy: 0.7049\n",
            "Epoch 101/250\n",
            "242/242 [==============================] - 0s 79us/step - loss: 0.6878 - accuracy: 0.7314 - val_loss: 0.5596 - val_accuracy: 0.7377\n",
            "Epoch 102/250\n",
            "242/242 [==============================] - 0s 61us/step - loss: 0.6768 - accuracy: 0.7190 - val_loss: 0.5504 - val_accuracy: 0.7377\n",
            "Epoch 103/250\n",
            "242/242 [==============================] - 0s 63us/step - loss: 0.6514 - accuracy: 0.7355 - val_loss: 0.5396 - val_accuracy: 0.7049\n",
            "Epoch 104/250\n",
            "242/242 [==============================] - 0s 61us/step - loss: 0.6498 - accuracy: 0.7273 - val_loss: 0.5285 - val_accuracy: 0.7377\n",
            "Epoch 105/250\n",
            "242/242 [==============================] - 0s 63us/step - loss: 0.6296 - accuracy: 0.7397 - val_loss: 0.5255 - val_accuracy: 0.7377\n",
            "Epoch 106/250\n",
            "242/242 [==============================] - 0s 64us/step - loss: 0.6144 - accuracy: 0.7314 - val_loss: 0.5167 - val_accuracy: 0.7377\n",
            "Epoch 107/250\n",
            "242/242 [==============================] - 0s 65us/step - loss: 0.5942 - accuracy: 0.7521 - val_loss: 0.5012 - val_accuracy: 0.7377\n",
            "Epoch 108/250\n",
            "242/242 [==============================] - 0s 69us/step - loss: 0.5845 - accuracy: 0.7397 - val_loss: 0.4946 - val_accuracy: 0.7541\n",
            "Epoch 109/250\n",
            "242/242 [==============================] - 0s 66us/step - loss: 0.5672 - accuracy: 0.7438 - val_loss: 0.4877 - val_accuracy: 0.7377\n",
            "Epoch 110/250\n",
            "242/242 [==============================] - 0s 78us/step - loss: 0.5598 - accuracy: 0.7397 - val_loss: 0.4812 - val_accuracy: 0.7541\n",
            "Epoch 111/250\n",
            "242/242 [==============================] - 0s 76us/step - loss: 0.5595 - accuracy: 0.7273 - val_loss: 0.4745 - val_accuracy: 0.7705\n",
            "Epoch 112/250\n",
            "242/242 [==============================] - 0s 79us/step - loss: 0.5456 - accuracy: 0.7479 - val_loss: 0.4709 - val_accuracy: 0.7541\n",
            "Epoch 113/250\n",
            "242/242 [==============================] - 0s 65us/step - loss: 0.5232 - accuracy: 0.7438 - val_loss: 0.4688 - val_accuracy: 0.7541\n",
            "Epoch 114/250\n",
            "242/242 [==============================] - 0s 58us/step - loss: 0.5193 - accuracy: 0.7479 - val_loss: 0.4625 - val_accuracy: 0.7869\n",
            "Epoch 115/250\n",
            "242/242 [==============================] - 0s 74us/step - loss: 0.5167 - accuracy: 0.7521 - val_loss: 0.4591 - val_accuracy: 0.7869\n",
            "Epoch 116/250\n",
            "242/242 [==============================] - 0s 67us/step - loss: 0.5034 - accuracy: 0.7521 - val_loss: 0.4562 - val_accuracy: 0.7705\n",
            "Epoch 117/250\n",
            "242/242 [==============================] - 0s 70us/step - loss: 0.4941 - accuracy: 0.7562 - val_loss: 0.4542 - val_accuracy: 0.7869\n",
            "Epoch 118/250\n",
            "242/242 [==============================] - 0s 66us/step - loss: 0.4945 - accuracy: 0.7727 - val_loss: 0.4496 - val_accuracy: 0.7869\n",
            "Epoch 119/250\n",
            "242/242 [==============================] - 0s 59us/step - loss: 0.4853 - accuracy: 0.7645 - val_loss: 0.4477 - val_accuracy: 0.7869\n",
            "Epoch 120/250\n",
            "242/242 [==============================] - 0s 70us/step - loss: 0.4798 - accuracy: 0.7645 - val_loss: 0.4462 - val_accuracy: 0.7869\n",
            "Epoch 121/250\n",
            "242/242 [==============================] - 0s 63us/step - loss: 0.4782 - accuracy: 0.7686 - val_loss: 0.4456 - val_accuracy: 0.7869\n",
            "Epoch 122/250\n",
            "242/242 [==============================] - 0s 81us/step - loss: 0.4710 - accuracy: 0.7562 - val_loss: 0.4446 - val_accuracy: 0.7705\n",
            "Epoch 123/250\n",
            "242/242 [==============================] - 0s 95us/step - loss: 0.4710 - accuracy: 0.7769 - val_loss: 0.4423 - val_accuracy: 0.7869\n",
            "Epoch 124/250\n",
            "242/242 [==============================] - 0s 79us/step - loss: 0.4714 - accuracy: 0.7603 - val_loss: 0.4406 - val_accuracy: 0.7869\n",
            "Epoch 125/250\n",
            "242/242 [==============================] - 0s 64us/step - loss: 0.4629 - accuracy: 0.7851 - val_loss: 0.4402 - val_accuracy: 0.7705\n",
            "Epoch 126/250\n",
            "242/242 [==============================] - 0s 76us/step - loss: 0.4598 - accuracy: 0.7851 - val_loss: 0.4400 - val_accuracy: 0.7869\n",
            "Epoch 127/250\n",
            "242/242 [==============================] - 0s 61us/step - loss: 0.4582 - accuracy: 0.7727 - val_loss: 0.4444 - val_accuracy: 0.8033\n",
            "Epoch 128/250\n",
            "242/242 [==============================] - 0s 60us/step - loss: 0.4671 - accuracy: 0.7851 - val_loss: 0.4403 - val_accuracy: 0.8197\n",
            "Epoch 129/250\n",
            "242/242 [==============================] - 0s 73us/step - loss: 0.4671 - accuracy: 0.7810 - val_loss: 0.4412 - val_accuracy: 0.7869\n",
            "Epoch 130/250\n",
            "242/242 [==============================] - 0s 60us/step - loss: 0.4596 - accuracy: 0.7645 - val_loss: 0.4422 - val_accuracy: 0.8361\n",
            "Epoch 131/250\n",
            "242/242 [==============================] - 0s 61us/step - loss: 0.4650 - accuracy: 0.7686 - val_loss: 0.4411 - val_accuracy: 0.7869\n",
            "Epoch 132/250\n",
            "242/242 [==============================] - 0s 60us/step - loss: 0.4589 - accuracy: 0.7727 - val_loss: 0.4430 - val_accuracy: 0.8361\n",
            "Epoch 133/250\n",
            "242/242 [==============================] - 0s 71us/step - loss: 0.4427 - accuracy: 0.7893 - val_loss: 0.4438 - val_accuracy: 0.8033\n",
            "Epoch 134/250\n",
            "242/242 [==============================] - 0s 76us/step - loss: 0.4593 - accuracy: 0.7727 - val_loss: 0.4476 - val_accuracy: 0.8197\n",
            "Epoch 135/250\n",
            "242/242 [==============================] - 0s 60us/step - loss: 0.4499 - accuracy: 0.7851 - val_loss: 0.4498 - val_accuracy: 0.8033\n",
            "Epoch 136/250\n",
            "242/242 [==============================] - 0s 60us/step - loss: 0.4621 - accuracy: 0.7934 - val_loss: 0.4353 - val_accuracy: 0.8197\n",
            "Epoch 137/250\n",
            "242/242 [==============================] - 0s 61us/step - loss: 0.4442 - accuracy: 0.7893 - val_loss: 0.4328 - val_accuracy: 0.7705\n",
            "Epoch 138/250\n",
            "242/242 [==============================] - 0s 58us/step - loss: 0.4412 - accuracy: 0.8017 - val_loss: 0.4322 - val_accuracy: 0.7869\n",
            "Epoch 139/250\n",
            "242/242 [==============================] - 0s 74us/step - loss: 0.4369 - accuracy: 0.8058 - val_loss: 0.4313 - val_accuracy: 0.7869\n",
            "Epoch 140/250\n",
            "242/242 [==============================] - 0s 60us/step - loss: 0.4359 - accuracy: 0.8182 - val_loss: 0.4303 - val_accuracy: 0.7869\n",
            "Epoch 141/250\n",
            "242/242 [==============================] - 0s 62us/step - loss: 0.4342 - accuracy: 0.8182 - val_loss: 0.4296 - val_accuracy: 0.8033\n",
            "Epoch 142/250\n",
            "242/242 [==============================] - 0s 75us/step - loss: 0.4382 - accuracy: 0.8099 - val_loss: 0.4289 - val_accuracy: 0.8033\n",
            "Epoch 143/250\n",
            "242/242 [==============================] - 0s 60us/step - loss: 0.4375 - accuracy: 0.8099 - val_loss: 0.4293 - val_accuracy: 0.7869\n",
            "Epoch 144/250\n",
            "242/242 [==============================] - 0s 95us/step - loss: 0.4392 - accuracy: 0.8140 - val_loss: 0.4303 - val_accuracy: 0.8033\n",
            "Epoch 145/250\n",
            "242/242 [==============================] - 0s 66us/step - loss: 0.4525 - accuracy: 0.7769 - val_loss: 0.4340 - val_accuracy: 0.7869\n",
            "Epoch 146/250\n",
            "242/242 [==============================] - 0s 63us/step - loss: 0.4395 - accuracy: 0.8223 - val_loss: 0.4268 - val_accuracy: 0.8033\n",
            "Epoch 147/250\n",
            "242/242 [==============================] - 0s 68us/step - loss: 0.4272 - accuracy: 0.8099 - val_loss: 0.4279 - val_accuracy: 0.8033\n",
            "Epoch 148/250\n",
            "242/242 [==============================] - 0s 78us/step - loss: 0.4329 - accuracy: 0.8306 - val_loss: 0.4263 - val_accuracy: 0.8033\n",
            "Epoch 149/250\n",
            "242/242 [==============================] - 0s 77us/step - loss: 0.4433 - accuracy: 0.7934 - val_loss: 0.4255 - val_accuracy: 0.8033\n",
            "Epoch 150/250\n",
            "242/242 [==============================] - 0s 60us/step - loss: 0.4368 - accuracy: 0.8017 - val_loss: 0.4246 - val_accuracy: 0.8033\n",
            "Epoch 151/250\n",
            "242/242 [==============================] - 0s 58us/step - loss: 0.4307 - accuracy: 0.8182 - val_loss: 0.4244 - val_accuracy: 0.8197\n",
            "Epoch 152/250\n",
            "242/242 [==============================] - 0s 73us/step - loss: 0.4315 - accuracy: 0.8223 - val_loss: 0.4257 - val_accuracy: 0.8033\n",
            "Epoch 153/250\n",
            "242/242 [==============================] - 0s 61us/step - loss: 0.4350 - accuracy: 0.8017 - val_loss: 0.4250 - val_accuracy: 0.7705\n",
            "Epoch 154/250\n",
            "242/242 [==============================] - 0s 59us/step - loss: 0.4255 - accuracy: 0.8099 - val_loss: 0.4232 - val_accuracy: 0.8197\n",
            "Epoch 155/250\n",
            "242/242 [==============================] - 0s 74us/step - loss: 0.4240 - accuracy: 0.8430 - val_loss: 0.4227 - val_accuracy: 0.8033\n",
            "Epoch 156/250\n",
            "242/242 [==============================] - 0s 64us/step - loss: 0.4214 - accuracy: 0.8058 - val_loss: 0.4225 - val_accuracy: 0.8033\n",
            "Epoch 157/250\n",
            "242/242 [==============================] - 0s 65us/step - loss: 0.4157 - accuracy: 0.8264 - val_loss: 0.4244 - val_accuracy: 0.8033\n",
            "Epoch 158/250\n",
            "242/242 [==============================] - 0s 59us/step - loss: 0.4202 - accuracy: 0.8140 - val_loss: 0.4211 - val_accuracy: 0.8033\n",
            "Epoch 159/250\n",
            "242/242 [==============================] - 0s 57us/step - loss: 0.4197 - accuracy: 0.8223 - val_loss: 0.4208 - val_accuracy: 0.8033\n",
            "Epoch 160/250\n",
            "242/242 [==============================] - 0s 69us/step - loss: 0.4205 - accuracy: 0.8140 - val_loss: 0.4206 - val_accuracy: 0.8033\n",
            "Epoch 161/250\n",
            "242/242 [==============================] - 0s 60us/step - loss: 0.4207 - accuracy: 0.8388 - val_loss: 0.4197 - val_accuracy: 0.8033\n",
            "Epoch 162/250\n",
            "242/242 [==============================] - 0s 66us/step - loss: 0.4196 - accuracy: 0.8223 - val_loss: 0.4189 - val_accuracy: 0.8197\n",
            "Epoch 163/250\n",
            "242/242 [==============================] - 0s 58us/step - loss: 0.4119 - accuracy: 0.8223 - val_loss: 0.4185 - val_accuracy: 0.8197\n",
            "Epoch 164/250\n",
            "242/242 [==============================] - 0s 79us/step - loss: 0.4121 - accuracy: 0.8264 - val_loss: 0.4183 - val_accuracy: 0.8033\n",
            "Epoch 165/250\n",
            "242/242 [==============================] - 0s 63us/step - loss: 0.4190 - accuracy: 0.8140 - val_loss: 0.4178 - val_accuracy: 0.8197\n",
            "Epoch 166/250\n",
            "242/242 [==============================] - 0s 64us/step - loss: 0.4088 - accuracy: 0.8264 - val_loss: 0.4200 - val_accuracy: 0.8033\n",
            "Epoch 167/250\n",
            "242/242 [==============================] - 0s 76us/step - loss: 0.4124 - accuracy: 0.8140 - val_loss: 0.4182 - val_accuracy: 0.8033\n",
            "Epoch 168/250\n",
            "242/242 [==============================] - 0s 66us/step - loss: 0.4107 - accuracy: 0.8306 - val_loss: 0.4179 - val_accuracy: 0.8033\n",
            "Epoch 169/250\n",
            "242/242 [==============================] - 0s 63us/step - loss: 0.4097 - accuracy: 0.8223 - val_loss: 0.4157 - val_accuracy: 0.8033\n",
            "Epoch 170/250\n",
            "242/242 [==============================] - 0s 61us/step - loss: 0.4091 - accuracy: 0.8264 - val_loss: 0.4155 - val_accuracy: 0.8197\n",
            "Epoch 171/250\n",
            "242/242 [==============================] - 0s 59us/step - loss: 0.4175 - accuracy: 0.8264 - val_loss: 0.4158 - val_accuracy: 0.8197\n",
            "Epoch 172/250\n",
            "242/242 [==============================] - 0s 60us/step - loss: 0.4237 - accuracy: 0.8140 - val_loss: 0.4157 - val_accuracy: 0.8033\n",
            "Epoch 173/250\n",
            "242/242 [==============================] - 0s 66us/step - loss: 0.4071 - accuracy: 0.8347 - val_loss: 0.4142 - val_accuracy: 0.8361\n",
            "Epoch 174/250\n",
            "242/242 [==============================] - 0s 70us/step - loss: 0.4100 - accuracy: 0.8264 - val_loss: 0.4148 - val_accuracy: 0.8197\n",
            "Epoch 175/250\n",
            "242/242 [==============================] - 0s 62us/step - loss: 0.4211 - accuracy: 0.7975 - val_loss: 0.4134 - val_accuracy: 0.8033\n",
            "Epoch 176/250\n",
            "242/242 [==============================] - 0s 68us/step - loss: 0.4552 - accuracy: 0.7810 - val_loss: 0.4134 - val_accuracy: 0.7869\n",
            "Epoch 177/250\n",
            "242/242 [==============================] - 0s 74us/step - loss: 0.4093 - accuracy: 0.8264 - val_loss: 0.4161 - val_accuracy: 0.8033\n",
            "Epoch 178/250\n",
            "242/242 [==============================] - 0s 63us/step - loss: 0.4101 - accuracy: 0.8306 - val_loss: 0.4131 - val_accuracy: 0.7869\n",
            "Epoch 179/250\n",
            "242/242 [==============================] - 0s 62us/step - loss: 0.4046 - accuracy: 0.8223 - val_loss: 0.4120 - val_accuracy: 0.8361\n",
            "Epoch 180/250\n",
            "242/242 [==============================] - 0s 62us/step - loss: 0.4013 - accuracy: 0.8347 - val_loss: 0.4119 - val_accuracy: 0.8033\n",
            "Epoch 181/250\n",
            "242/242 [==============================] - 0s 61us/step - loss: 0.4030 - accuracy: 0.8306 - val_loss: 0.4118 - val_accuracy: 0.8197\n",
            "Epoch 182/250\n",
            "242/242 [==============================] - 0s 67us/step - loss: 0.4024 - accuracy: 0.8347 - val_loss: 0.4118 - val_accuracy: 0.8033\n",
            "Epoch 183/250\n",
            "242/242 [==============================] - 0s 66us/step - loss: 0.4040 - accuracy: 0.8264 - val_loss: 0.4112 - val_accuracy: 0.8033\n",
            "Epoch 184/250\n",
            "242/242 [==============================] - 0s 75us/step - loss: 0.3961 - accuracy: 0.8264 - val_loss: 0.4192 - val_accuracy: 0.8197\n",
            "Epoch 185/250\n",
            "242/242 [==============================] - 0s 64us/step - loss: 0.4094 - accuracy: 0.8223 - val_loss: 0.4152 - val_accuracy: 0.8033\n",
            "Epoch 186/250\n",
            "242/242 [==============================] - 0s 64us/step - loss: 0.4161 - accuracy: 0.8347 - val_loss: 0.4109 - val_accuracy: 0.8197\n",
            "Epoch 187/250\n",
            "242/242 [==============================] - 0s 59us/step - loss: 0.4156 - accuracy: 0.8099 - val_loss: 0.4101 - val_accuracy: 0.8033\n",
            "Epoch 188/250\n",
            "242/242 [==============================] - 0s 68us/step - loss: 0.4049 - accuracy: 0.8388 - val_loss: 0.4103 - val_accuracy: 0.8197\n",
            "Epoch 189/250\n",
            "242/242 [==============================] - 0s 71us/step - loss: 0.3976 - accuracy: 0.8471 - val_loss: 0.4094 - val_accuracy: 0.8033\n",
            "Epoch 190/250\n",
            "242/242 [==============================] - 0s 62us/step - loss: 0.4128 - accuracy: 0.8347 - val_loss: 0.4112 - val_accuracy: 0.7869\n",
            "Epoch 191/250\n",
            "242/242 [==============================] - 0s 63us/step - loss: 0.4100 - accuracy: 0.8058 - val_loss: 0.4097 - val_accuracy: 0.8197\n",
            "Epoch 192/250\n",
            "242/242 [==============================] - 0s 60us/step - loss: 0.4059 - accuracy: 0.8388 - val_loss: 0.4093 - val_accuracy: 0.7869\n",
            "Epoch 193/250\n",
            "242/242 [==============================] - 0s 64us/step - loss: 0.4052 - accuracy: 0.8223 - val_loss: 0.4081 - val_accuracy: 0.8197\n",
            "Epoch 194/250\n",
            "242/242 [==============================] - 0s 64us/step - loss: 0.3954 - accuracy: 0.8554 - val_loss: 0.4093 - val_accuracy: 0.7869\n",
            "Epoch 195/250\n",
            "242/242 [==============================] - 0s 57us/step - loss: 0.3964 - accuracy: 0.8388 - val_loss: 0.4091 - val_accuracy: 0.8197\n",
            "Epoch 196/250\n",
            "242/242 [==============================] - 0s 61us/step - loss: 0.4041 - accuracy: 0.8264 - val_loss: 0.4092 - val_accuracy: 0.7869\n",
            "Epoch 197/250\n",
            "242/242 [==============================] - 0s 69us/step - loss: 0.4063 - accuracy: 0.8099 - val_loss: 0.4113 - val_accuracy: 0.8361\n",
            "Epoch 198/250\n",
            "242/242 [==============================] - 0s 74us/step - loss: 0.4071 - accuracy: 0.8099 - val_loss: 0.4066 - val_accuracy: 0.8033\n",
            "Epoch 199/250\n",
            "242/242 [==============================] - 0s 89us/step - loss: 0.4055 - accuracy: 0.8182 - val_loss: 0.4063 - val_accuracy: 0.8033\n",
            "Epoch 200/250\n",
            "242/242 [==============================] - 0s 76us/step - loss: 0.4059 - accuracy: 0.8223 - val_loss: 0.4060 - val_accuracy: 0.8033\n",
            "Epoch 201/250\n",
            "242/242 [==============================] - 0s 68us/step - loss: 0.3973 - accuracy: 0.8347 - val_loss: 0.4069 - val_accuracy: 0.8197\n",
            "Epoch 202/250\n",
            "242/242 [==============================] - 0s 89us/step - loss: 0.3898 - accuracy: 0.8512 - val_loss: 0.4067 - val_accuracy: 0.8033\n",
            "Epoch 203/250\n",
            "242/242 [==============================] - 0s 65us/step - loss: 0.3892 - accuracy: 0.8636 - val_loss: 0.4063 - val_accuracy: 0.8033\n",
            "Epoch 204/250\n",
            "242/242 [==============================] - 0s 60us/step - loss: 0.4149 - accuracy: 0.8058 - val_loss: 0.4073 - val_accuracy: 0.7869\n",
            "Epoch 205/250\n",
            "242/242 [==============================] - 0s 58us/step - loss: 0.4049 - accuracy: 0.8140 - val_loss: 0.4062 - val_accuracy: 0.8033\n",
            "Epoch 206/250\n",
            "242/242 [==============================] - 0s 57us/step - loss: 0.3939 - accuracy: 0.8388 - val_loss: 0.4060 - val_accuracy: 0.8033\n",
            "Epoch 207/250\n",
            "242/242 [==============================] - 0s 69us/step - loss: 0.3991 - accuracy: 0.8223 - val_loss: 0.4127 - val_accuracy: 0.8361\n",
            "Epoch 208/250\n",
            "242/242 [==============================] - 0s 63us/step - loss: 0.4053 - accuracy: 0.8388 - val_loss: 0.4110 - val_accuracy: 0.8033\n",
            "Epoch 209/250\n",
            "242/242 [==============================] - 0s 61us/step - loss: 0.4008 - accuracy: 0.8347 - val_loss: 0.4064 - val_accuracy: 0.8033\n",
            "Epoch 210/250\n",
            "242/242 [==============================] - 0s 74us/step - loss: 0.3918 - accuracy: 0.8306 - val_loss: 0.4054 - val_accuracy: 0.8033\n",
            "Epoch 211/250\n",
            "242/242 [==============================] - 0s 64us/step - loss: 0.3943 - accuracy: 0.8512 - val_loss: 0.4055 - val_accuracy: 0.8033\n",
            "Epoch 212/250\n",
            "242/242 [==============================] - 0s 66us/step - loss: 0.3875 - accuracy: 0.8306 - val_loss: 0.4053 - val_accuracy: 0.8033\n",
            "Epoch 213/250\n",
            "242/242 [==============================] - 0s 77us/step - loss: 0.3978 - accuracy: 0.8347 - val_loss: 0.4057 - val_accuracy: 0.8033\n",
            "Epoch 214/250\n",
            "242/242 [==============================] - 0s 63us/step - loss: 0.4084 - accuracy: 0.8099 - val_loss: 0.4071 - val_accuracy: 0.8033\n",
            "Epoch 215/250\n",
            "242/242 [==============================] - 0s 63us/step - loss: 0.3873 - accuracy: 0.8512 - val_loss: 0.4055 - val_accuracy: 0.8033\n",
            "Epoch 216/250\n",
            "242/242 [==============================] - 0s 60us/step - loss: 0.3847 - accuracy: 0.8512 - val_loss: 0.4073 - val_accuracy: 0.8033\n",
            "Epoch 217/250\n",
            "242/242 [==============================] - 0s 61us/step - loss: 0.3843 - accuracy: 0.8554 - val_loss: 0.4052 - val_accuracy: 0.8033\n",
            "Epoch 218/250\n",
            "242/242 [==============================] - 0s 56us/step - loss: 0.3836 - accuracy: 0.8636 - val_loss: 0.4058 - val_accuracy: 0.7869\n",
            "Epoch 219/250\n",
            "242/242 [==============================] - 0s 65us/step - loss: 0.3835 - accuracy: 0.8512 - val_loss: 0.4050 - val_accuracy: 0.8033\n",
            "Epoch 220/250\n",
            "242/242 [==============================] - 0s 63us/step - loss: 0.3847 - accuracy: 0.8512 - val_loss: 0.4100 - val_accuracy: 0.8197\n",
            "Epoch 221/250\n",
            "242/242 [==============================] - 0s 71us/step - loss: 0.3855 - accuracy: 0.8595 - val_loss: 0.4044 - val_accuracy: 0.8033\n",
            "Epoch 222/250\n",
            "242/242 [==============================] - 0s 58us/step - loss: 0.3866 - accuracy: 0.8512 - val_loss: 0.4051 - val_accuracy: 0.8033\n",
            "Epoch 223/250\n",
            "242/242 [==============================] - 0s 58us/step - loss: 0.3829 - accuracy: 0.8512 - val_loss: 0.4039 - val_accuracy: 0.8033\n",
            "Epoch 224/250\n",
            "242/242 [==============================] - 0s 58us/step - loss: 0.3832 - accuracy: 0.8347 - val_loss: 0.4037 - val_accuracy: 0.8033\n",
            "Epoch 225/250\n",
            "242/242 [==============================] - 0s 58us/step - loss: 0.3820 - accuracy: 0.8595 - val_loss: 0.4066 - val_accuracy: 0.8033\n",
            "Epoch 226/250\n",
            "242/242 [==============================] - 0s 63us/step - loss: 0.3821 - accuracy: 0.8636 - val_loss: 0.4053 - val_accuracy: 0.7869\n",
            "Epoch 227/250\n",
            "242/242 [==============================] - 0s 59us/step - loss: 0.3827 - accuracy: 0.8306 - val_loss: 0.4123 - val_accuracy: 0.8361\n",
            "Epoch 228/250\n",
            "242/242 [==============================] - 0s 63us/step - loss: 0.3997 - accuracy: 0.8264 - val_loss: 0.4078 - val_accuracy: 0.7869\n",
            "Epoch 229/250\n",
            "242/242 [==============================] - 0s 63us/step - loss: 0.4188 - accuracy: 0.7975 - val_loss: 0.4100 - val_accuracy: 0.8197\n",
            "Epoch 230/250\n",
            "242/242 [==============================] - 0s 58us/step - loss: 0.3902 - accuracy: 0.8347 - val_loss: 0.4038 - val_accuracy: 0.8033\n",
            "Epoch 231/250\n",
            "242/242 [==============================] - 0s 59us/step - loss: 0.4169 - accuracy: 0.8017 - val_loss: 0.4164 - val_accuracy: 0.8525\n",
            "Epoch 232/250\n",
            "242/242 [==============================] - 0s 60us/step - loss: 0.3881 - accuracy: 0.8347 - val_loss: 0.4035 - val_accuracy: 0.7869\n",
            "Epoch 233/250\n",
            "242/242 [==============================] - 0s 59us/step - loss: 0.3819 - accuracy: 0.8430 - val_loss: 0.4033 - val_accuracy: 0.7869\n",
            "Epoch 234/250\n",
            "242/242 [==============================] - 0s 62us/step - loss: 0.3784 - accuracy: 0.8678 - val_loss: 0.4032 - val_accuracy: 0.7869\n",
            "Epoch 235/250\n",
            "242/242 [==============================] - 0s 71us/step - loss: 0.3791 - accuracy: 0.8595 - val_loss: 0.4036 - val_accuracy: 0.8033\n",
            "Epoch 236/250\n",
            "242/242 [==============================] - 0s 62us/step - loss: 0.3805 - accuracy: 0.8554 - val_loss: 0.4041 - val_accuracy: 0.8033\n",
            "Epoch 237/250\n",
            "242/242 [==============================] - 0s 61us/step - loss: 0.3817 - accuracy: 0.8471 - val_loss: 0.4025 - val_accuracy: 0.7869\n",
            "Epoch 238/250\n",
            "242/242 [==============================] - 0s 60us/step - loss: 0.3882 - accuracy: 0.8223 - val_loss: 0.4027 - val_accuracy: 0.7869\n",
            "Epoch 239/250\n",
            "242/242 [==============================] - 0s 60us/step - loss: 0.3887 - accuracy: 0.8430 - val_loss: 0.4034 - val_accuracy: 0.7869\n",
            "Epoch 240/250\n",
            "242/242 [==============================] - 0s 61us/step - loss: 0.3853 - accuracy: 0.8347 - val_loss: 0.4050 - val_accuracy: 0.8033\n",
            "Epoch 241/250\n",
            "242/242 [==============================] - 0s 59us/step - loss: 0.3778 - accuracy: 0.8678 - val_loss: 0.4037 - val_accuracy: 0.8033\n",
            "Epoch 242/250\n",
            "242/242 [==============================] - 0s 70us/step - loss: 0.3816 - accuracy: 0.8512 - val_loss: 0.4044 - val_accuracy: 0.7869\n",
            "Epoch 243/250\n",
            "242/242 [==============================] - 0s 58us/step - loss: 0.4002 - accuracy: 0.8099 - val_loss: 0.4130 - val_accuracy: 0.8361\n",
            "Epoch 244/250\n",
            "242/242 [==============================] - 0s 59us/step - loss: 0.4159 - accuracy: 0.8140 - val_loss: 0.4084 - val_accuracy: 0.7869\n",
            "Epoch 245/250\n",
            "242/242 [==============================] - 0s 63us/step - loss: 0.3908 - accuracy: 0.8306 - val_loss: 0.4044 - val_accuracy: 0.8033\n",
            "Epoch 246/250\n",
            "242/242 [==============================] - 0s 59us/step - loss: 0.3893 - accuracy: 0.8388 - val_loss: 0.4033 - val_accuracy: 0.8033\n",
            "Epoch 247/250\n",
            "242/242 [==============================] - 0s 61us/step - loss: 0.3853 - accuracy: 0.8264 - val_loss: 0.4027 - val_accuracy: 0.7869\n",
            "Epoch 248/250\n",
            "242/242 [==============================] - 0s 59us/step - loss: 0.3747 - accuracy: 0.8595 - val_loss: 0.4075 - val_accuracy: 0.8197\n",
            "Epoch 249/250\n",
            "242/242 [==============================] - 0s 60us/step - loss: 0.3794 - accuracy: 0.8430 - val_loss: 0.4028 - val_accuracy: 0.8033\n",
            "Epoch 250/250\n",
            "242/242 [==============================] - 0s 60us/step - loss: 0.3786 - accuracy: 0.8430 - val_loss: 0.4080 - val_accuracy: 0.8197\n"
          ],
          "name": "stdout"
        },
        {
          "output_type": "execute_result",
          "data": {
            "text/plain": [
              "<keras.callbacks.callbacks.History at 0x7f4e8723bfd0>"
            ]
          },
          "metadata": {
            "tags": []
          },
          "execution_count": 24
        }
      ]
    },
    {
      "cell_type": "code",
      "metadata": {
        "id": "lywb_nb5A8g4",
        "colab_type": "code",
        "colab": {}
      },
      "source": [
        "# Calculate the achieved accuracy\n",
        "Y_pred_nn = model.predict(X_test)\n",
        "rounded = [round(x[0]) for x in Y_pred_nn]\n",
        "Y_pred_nn = rounded"
      ],
      "execution_count": 0,
      "outputs": []
    },
    {
      "cell_type": "code",
      "metadata": {
        "id": "KEgZLXtZB8Pc",
        "colab_type": "code",
        "outputId": "d7623be9-8520-4a37-8110-4cc94716d89d",
        "colab": {
          "base_uri": "https://localhost:8080/",
          "height": 35
        }
      },
      "source": [
        "# Print the Accuracy achieved using Neural Network\n",
        "score_nn = round(accuracy_score(Y_pred_nn,Y_test)*100,2)\n",
        "print(\"The accuracy score achieved using Neural Network is: \"+str(score_nn)+\" %\")"
      ],
      "execution_count": 26,
      "outputs": [
        {
          "output_type": "stream",
          "text": [
            "The accuracy score achieved using Neural Network is: 81.97 %\n"
          ],
          "name": "stdout"
        }
      ]
    },
    {
      "cell_type": "markdown",
      "metadata": {
        "id": "-YRkHTujlpbO",
        "colab_type": "text"
      },
      "source": [
        "##**Conclusion**\n",
        "\n",
        "After analyzing the data and applying KNN and Neural Network we have concluded that the accuracy achieved using Neural network is 81 percent which is higher than KNN."
      ]
    }
  ]
}